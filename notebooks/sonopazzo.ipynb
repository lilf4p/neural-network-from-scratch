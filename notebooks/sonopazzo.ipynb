{
 "cells": [
  {
   "cell_type": "code",
   "execution_count": 3,
   "metadata": {},
   "outputs": [
    {
     "data": {
      "text/plain": [
       "(895, 2, 1)"
      ]
     },
     "execution_count": 3,
     "metadata": {},
     "output_type": "execute_result"
    }
   ],
   "source": [
    "import numpy as np\n",
    "import pandas as pd\n",
    "import matplotlib.pyplot as plt\n",
    "import seaborn as sns\n",
    "\n",
    "# add the src folder to the path\n",
    "import sys\n",
    "sys.path.append('../')\n",
    "\n",
    "from src.search import grid_search_cv\n",
    "from src.utils import load_cup\n",
    "from src.network import Network\n",
    "from src.activations import ReLU, Tanh, Sigmoid\n",
    "from src.losses import MeanSquaredError\n",
    "from src.metrics import BinaryAccuracy,  MeanEuclideanError\n",
    "from src.callbacks import EarlyStopping\n",
    "from src.regularizers import L2\n",
    "\n",
    "from sklearn.metrics import accuracy_score\n",
    "x_train, x_val, y_train, y_val, scaler = load_cup(validation=True, scale_outputs=True)\n",
    "y_train.shape"
   ]
  },
  {
   "cell_type": "code",
   "execution_count": 4,
   "metadata": {},
   "outputs": [
    {
     "name": "stderr",
     "output_type": "stream",
     "text": [
      "Training:   4%|▍         | 38/1000[, loss=0.00464, val_loss=0.00518, val_acc=0.0809]"
     ]
    },
    {
     "ename": "KeyboardInterrupt",
     "evalue": "",
     "output_type": "error",
     "traceback": [
      "\u001b[0;31m---------------------------------------------------------------------------\u001b[0m",
      "\u001b[0;31mKeyboardInterrupt\u001b[0m                         Traceback (most recent call last)",
      "Cell \u001b[0;32mIn[4], line 6\u001b[0m\n\u001b[1;32m      3\u001b[0m model\u001b[39m.\u001b[39madd_layer(\u001b[39m512\u001b[39m, ReLU())\n\u001b[1;32m      4\u001b[0m model\u001b[39m.\u001b[39madd_layer(\u001b[39m2\u001b[39m, Sigmoid())\n\u001b[0;32m----> 6\u001b[0m stats \u001b[39m=\u001b[39m model\u001b[39m.\u001b[39;49mtrain(\n\u001b[1;32m      7\u001b[0m     eta\u001b[39m=\u001b[39;49m\u001b[39m10e-3\u001b[39;49m, \n\u001b[1;32m      8\u001b[0m     nesterov\u001b[39m=\u001b[39;49m\u001b[39m0.6\u001b[39;49m, \n\u001b[1;32m      9\u001b[0m     train\u001b[39m=\u001b[39;49m(x_train, y_train), \n\u001b[1;32m     10\u001b[0m     validation\u001b[39m=\u001b[39;49m(x_val, y_val), \n\u001b[1;32m     11\u001b[0m     metric\u001b[39m=\u001b[39;49mMeanEuclideanError(), \n\u001b[1;32m     12\u001b[0m     loss\u001b[39m=\u001b[39;49mMeanSquaredError(),\n\u001b[1;32m     13\u001b[0m     epochs\u001b[39m=\u001b[39;49m\u001b[39m1000\u001b[39;49m,\n\u001b[1;32m     14\u001b[0m     callbacks\u001b[39m=\u001b[39;49m[EarlyStopping(\u001b[39m50\u001b[39;49m)]\n\u001b[1;32m     15\u001b[0m )\n\u001b[1;32m     17\u001b[0m fig, ax \u001b[39m=\u001b[39m plt\u001b[39m.\u001b[39msubplots(\u001b[39m1\u001b[39m, \u001b[39m2\u001b[39m, figsize\u001b[39m=\u001b[39m(\u001b[39m15\u001b[39m, \u001b[39m5\u001b[39m))\n\u001b[1;32m     18\u001b[0m ax\u001b[39m.\u001b[39mplot(stats[\u001b[39m'\u001b[39m\u001b[39mtrain_loss\u001b[39m\u001b[39m'\u001b[39m], label\u001b[39m=\u001b[39m\u001b[39m'\u001b[39m\u001b[39mtrain\u001b[39m\u001b[39m'\u001b[39m)\n",
      "File \u001b[0;32m~/Desktop/unipi/ML/neural-network-from-scratch/notebooks/../src/network.py:127\u001b[0m, in \u001b[0;36mNetwork.train\u001b[0;34m(self, train, validation, metric, loss, epochs, eta, verbose, callbacks, nesterov)\u001b[0m\n\u001b[1;32m    125\u001b[0m     pred \u001b[39m=\u001b[39m \u001b[39mself\u001b[39m\u001b[39m.\u001b[39m__forward_prop__(x)\n\u001b[1;32m    126\u001b[0m     deltas \u001b[39m=\u001b[39m loss\u001b[39m.\u001b[39mbackward(pred, target)\n\u001b[0;32m--> 127\u001b[0m     \u001b[39mself\u001b[39;49m\u001b[39m.\u001b[39;49m__backward_prop__(deltas\u001b[39m=\u001b[39;49mdeltas, eta\u001b[39m=\u001b[39;49meta, nesterov\u001b[39m=\u001b[39;49mnesterov)\n\u001b[1;32m    130\u001b[0m \u001b[39m# compute training error and accuracy for current epoch and append stats\u001b[39;00m\n\u001b[1;32m    131\u001b[0m \u001b[39mself\u001b[39m\u001b[39m.\u001b[39mepoch_stats(epoch, train_data, train_labels, val_data, val_labels, metric, loss, verbose, \u001b[39mself\u001b[39m\u001b[39m.\u001b[39mbar)\n",
      "File \u001b[0;32m~/Desktop/unipi/ML/neural-network-from-scratch/notebooks/../src/network.py:67\u001b[0m, in \u001b[0;36mNetwork.__backward_prop__\u001b[0;34m(self, deltas, eta, nesterov, batch_size)\u001b[0m\n\u001b[1;32m     65\u001b[0m \u001b[39m# now compute backward prop for every other layer, except for input layer.\u001b[39;00m\n\u001b[1;32m     66\u001b[0m \u001b[39mfor\u001b[39;00m layer \u001b[39min\u001b[39;00m \u001b[39mreversed\u001b[39m(\u001b[39mself\u001b[39m\u001b[39m.\u001b[39mlayers[\u001b[39m1\u001b[39m: \u001b[39mlen\u001b[39m(\u001b[39mself\u001b[39m\u001b[39m.\u001b[39mlayers)]):\n\u001b[0;32m---> 67\u001b[0m     d \u001b[39m=\u001b[39m layer\u001b[39m.\u001b[39;49mupdate_weights(deltas\u001b[39m=\u001b[39;49md, eta\u001b[39m=\u001b[39;49meta, nesterov\u001b[39m=\u001b[39;49mnesterov)\n",
      "File \u001b[0;32m~/Desktop/unipi/ML/neural-network-from-scratch/notebooks/../src/layers.py:53\u001b[0m, in \u001b[0;36mLayer.update_weights\u001b[0;34m(self, deltas, eta, nesterov)\u001b[0m\n\u001b[1;32m     50\u001b[0m     \u001b[39mself\u001b[39m\u001b[39m.\u001b[39mlast_delta \u001b[39m=\u001b[39m delta_w\n\u001b[1;32m     52\u001b[0m \u001b[39mif\u001b[39;00m \u001b[39mself\u001b[39m\u001b[39m.\u001b[39mregularizer:\n\u001b[0;32m---> 53\u001b[0m     \u001b[39mself\u001b[39m\u001b[39m.\u001b[39mW \u001b[39m-\u001b[39m\u001b[39m=\u001b[39m eta \u001b[39m*\u001b[39m delta_w \u001b[39m+\u001b[39m \u001b[39mself\u001b[39;49m\u001b[39m.\u001b[39;49mregularizer\u001b[39m.\u001b[39;49mgradient(\u001b[39mself\u001b[39;49m\u001b[39m.\u001b[39;49mW)\n\u001b[1;32m     54\u001b[0m \u001b[39melse\u001b[39;00m:\n\u001b[1;32m     55\u001b[0m     \u001b[39mself\u001b[39m\u001b[39m.\u001b[39mW \u001b[39m-\u001b[39m\u001b[39m=\u001b[39m eta \u001b[39m*\u001b[39m delta_w\n",
      "File \u001b[0;32m~/Desktop/unipi/ML/neural-network-from-scratch/notebooks/../src/regularizers.py:25\u001b[0m, in \u001b[0;36mL2.gradient\u001b[0;34m(self, weights)\u001b[0m\n\u001b[1;32m     22\u001b[0m \u001b[39mdef\u001b[39;00m \u001b[39m__call__\u001b[39m(\u001b[39mself\u001b[39m, weights):\n\u001b[1;32m     23\u001b[0m     \u001b[39mreturn\u001b[39;00m \u001b[39mself\u001b[39m\u001b[39m.\u001b[39mlamda \u001b[39m*\u001b[39m np\u001b[39m.\u001b[39msum(weights \u001b[39m*\u001b[39m\u001b[39m*\u001b[39m \u001b[39m2\u001b[39m)\n\u001b[0;32m---> 25\u001b[0m \u001b[39mdef\u001b[39;00m \u001b[39mgradient\u001b[39m(\u001b[39mself\u001b[39m, weights):\n\u001b[1;32m     26\u001b[0m     \u001b[39mreturn\u001b[39;00m \u001b[39m2\u001b[39m \u001b[39m*\u001b[39m \u001b[39mself\u001b[39m\u001b[39m.\u001b[39mlamda \u001b[39m*\u001b[39m weights\n",
      "\u001b[0;31mKeyboardInterrupt\u001b[0m: "
     ]
    }
   ],
   "source": [
    "model = Network(9, regularizer=L2(1e-6))\n",
    "model.add_layer(512, ReLU())\n",
    "model.add_layer(512, ReLU())\n",
    "model.add_layer(2, Sigmoid())\n",
    "\n",
    "stats = model.train(\n",
    "    eta=10e-3, \n",
    "    nesterov=0.6, \n",
    "    train=(x_train, y_train), \n",
    "    validation=(x_val, y_val), \n",
    "    metric=MeanEuclideanError(), \n",
    "    loss=MeanSquaredError(),\n",
    "    epochs=1000,\n",
    "    callbacks=[EarlyStopping(50)]\n",
    ")\n",
    "\n",
    "fig, ax = plt.subplots(1, 2, figsize=(15, 5))\n",
    "ax.plot(stats['train_loss'], label='train')\n",
    "ax.plot(stats['val_loss'], label='validation')\n",
    "ax.set_title('Loss')"
   ]
  }
 ],
 "metadata": {
  "kernelspec": {
   "display_name": "venv",
   "language": "python",
   "name": "python3"
  },
  "language_info": {
   "codemirror_mode": {
    "name": "ipython",
    "version": 3
   },
   "file_extension": ".py",
   "mimetype": "text/x-python",
   "name": "python",
   "nbconvert_exporter": "python",
   "pygments_lexer": "ipython3",
   "version": "3.11.1"
  },
  "orig_nbformat": 4,
  "vscode": {
   "interpreter": {
    "hash": "a29ded6e616d7585d61f3771ec5a363b94eb99ca2ded5b8798d9842f646a5745"
   }
  }
 },
 "nbformat": 4,
 "nbformat_minor": 2
}
