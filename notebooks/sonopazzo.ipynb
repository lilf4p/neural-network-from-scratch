{
 "cells": [
  {
   "cell_type": "code",
   "execution_count": 1,
   "metadata": {},
   "outputs": [
    {
     "data": {
      "text/plain": [
       "(895, 2, 1)"
      ]
     },
     "execution_count": 1,
     "metadata": {},
     "output_type": "execute_result"
    }
   ],
   "source": [
    "import numpy as np\n",
    "import pandas as pd\n",
    "import matplotlib.pyplot as plt\n",
    "import seaborn as sns\n",
    "\n",
    "# add the src folder to the path\n",
    "import sys\n",
    "sys.path.append('../')\n",
    "\n",
    "from src.search import grid_search_cv\n",
    "from src.utils import load_cup\n",
    "from src.network import Network\n",
    "from src.activations import ReLU, Tanh, Sigmoid\n",
    "from src.losses import MeanSquaredError\n",
    "from src.metrics import BinaryAccuracy,  MeanEuclideanError\n",
    "from src.callbacks import EarlyStopping\n",
    "from src.regularizers import L2\n",
    "\n",
    "from sklearn.metrics import accuracy_score\n",
    "x_train, x_val, y_train, y_val, scaler = load_cup(validation=True, scale_outputs=True)\n",
    "y_train.shape"
   ]
  },
  {
   "cell_type": "code",
   "execution_count": null,
   "metadata": {},
   "outputs": [],
   "source": [
    "model = Network(9, regularizer=L2(1e-6))\n",
    "model.add_layer(512, ReLU())\n",
    "model.add_layer(512, ReLU())\n",
    "model.add_layer(2, Sigmoid())\n",
    "\n",
    "stats = model.train(\n",
    "    eta=10e-3, \n",
    "    nesterov=0.6, \n",
    "    train=(x_train, y_train), \n",
    "    validation=(x_val, y_val), \n",
    "    metric=MeanEuclideanError(), \n",
    "    loss=MeanSquaredError(),\n",
    "    epochs=1000,\n",
    "    callbacks=[EarlyStopping(50)]\n",
    ")\n",
    "\n",
    "fig, ax = plt.subplots(1, 2, figsize=(15, 5))\n",
    "ax.plot(stats['train_loss'], label='train')\n",
    "ax.plot(stats['val_loss'], label='validation')\n",
    "ax.set_title('Loss')"
   ]
  }
 ],
 "metadata": {
  "kernelspec": {
   "display_name": "venv",
   "language": "python",
   "name": "python3"
  },
  "language_info": {
   "codemirror_mode": {
    "name": "ipython",
    "version": 3
   },
   "file_extension": ".py",
   "mimetype": "text/x-python",
   "name": "python",
   "nbconvert_exporter": "python",
   "pygments_lexer": "ipython3",
   "version": "3.11.1"
  },
  "orig_nbformat": 4,
  "vscode": {
   "interpreter": {
    "hash": "a29ded6e616d7585d61f3771ec5a363b94eb99ca2ded5b8798d9842f646a5745"
   }
  }
 },
 "nbformat": 4,
 "nbformat_minor": 2
}
