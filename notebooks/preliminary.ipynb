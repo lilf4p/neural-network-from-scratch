{
 "cells": [
  {
   "cell_type": "code",
   "execution_count": null,
   "metadata": {},
   "outputs": [],
   "source": [
    "import numpy as np\n",
    "import pandas as pd\n",
    "import matplotlib.pyplot as plt\n",
    "import seaborn as sns\n",
    "\n",
    "# add the src folder to the path\n",
    "import sys\n",
    "\n",
    "sys.path.append(\"../\")\n",
    "\n",
    "from src.search import grid_search_cv\n",
    "from src.utils import load_cup\n",
    "from src.network import Network\n",
    "from src.activations import ReLU, Tanh, Sigmoid\n",
    "from src.losses import MeanSquaredError\n",
    "from src.metrics import BinaryAccuracy, MeanEuclideanError\n",
    "from src.callbacks import EarlyStopping\n",
    "\n",
    "from sklearn.metrics import accuracy_score\n",
    "\n",
    "x_train, x_val, y_train, y_val, scaler = load_cup(validation=True, scale_outputs=True)\n",
    "y_train.shape"
   ]
  },
  {
   "attachments": {},
   "cell_type": "markdown",
   "metadata": {},
   "source": [
    "# CUP preliminary tests\n",
    "#### Trying different model architectures and hyperparameters with simple hold-out strategy"
   ]
  },
  {
   "cell_type": "code",
   "execution_count": null,
   "metadata": {},
   "outputs": [],
   "source": [
    "model = Network(9)\n",
    "model.add_layer(2, ReLU())\n",
    "model.add_layer(2, Sigmoid())\n",
    "\n",
    "stats = model.train(\n",
    "    eta=10e-3,\n",
    "    nesterov=0.8,\n",
    "    train=(x_train, y_train),\n",
    "    validation=(x_val, y_val),\n",
    "    metric=MeanEuclideanError(),\n",
    "    loss=MeanSquaredError(),\n",
    "    epochs=1000,\n",
    "    callbacks=[EarlyStopping(50)],\n",
    ")"
   ]
  },
  {
   "cell_type": "code",
   "execution_count": null,
   "metadata": {},
   "outputs": [],
   "source": [
    "fig, axs = plt.subplots(1, 2, figsize=(15, 5))\n",
    "\n",
    "sns.lineplot(stats[\"train_loss\"], ax=axs[0])\n",
    "sns.lineplot(stats[\"val_loss\"], ax=axs[0])\n",
    "sns.lineplot(stats[\"train_acc\"], ax=axs[1])\n",
    "sns.lineplot(stats[\"val_acc\"], ax=axs[1])"
   ]
  },
  {
   "cell_type": "code",
   "execution_count": null,
   "metadata": {},
   "outputs": [],
   "source": [
    "y_pred = model.multiple_outputs(x_val)\n",
    "\n",
    "y_pred_new = scaler.inverse_transform(\n",
    "    y_pred.reshape((y_pred.shape[0], y_pred.shape[1]))\n",
    ").reshape(y_pred.shape)\n",
    "y_val_new = scaler.inverse_transform(\n",
    "    y_val.reshape((y_val.shape[0], y_val.shape[1]))\n",
    ").reshape(y_val.shape)\n",
    "\n",
    "metric = MeanEuclideanError()\n",
    "metric(y_pred_new, y_val_new)"
   ]
  },
  {
   "cell_type": "markdown",
   "metadata": {},
   "source": [
    "## Second try, with two hidden layers, no regularizer\n"
   ]
  },
  {
   "cell_type": "markdown",
   "metadata": {},
   "source": [
    "#### 5-5 architecture"
   ]
  },
  {
   "cell_type": "code",
   "execution_count": null,
   "metadata": {},
   "outputs": [],
   "source": [
    "model = Network(9)\n",
    "model.add_layer(5, ReLU())\n",
    "model.add_layer(5, ReLU())\n",
    "model.add_layer(2, Sigmoid())\n",
    "\n",
    "stats = model.train(\n",
    "    eta=10e-3,\n",
    "    nesterov=0.8,\n",
    "    train=(x_train, y_train),\n",
    "    validation=(x_val, y_val),\n",
    "    metric=MeanEuclideanError(),\n",
    "    loss=MeanSquaredError(),\n",
    "    epochs=1000,\n",
    "    callbacks=[EarlyStopping(50)],\n",
    ")"
   ]
  },
  {
   "cell_type": "code",
   "execution_count": null,
   "metadata": {},
   "outputs": [],
   "source": [
    "y_pred = model.multiple_outputs(x_val)\n",
    "\n",
    "y_pred_new = scaler.inverse_transform(\n",
    "    y_pred.reshape((y_pred.shape[0], y_pred.shape[1]))\n",
    ").reshape(y_pred.shape)\n",
    "y_val_new = scaler.inverse_transform(\n",
    "    y_val.reshape((y_val.shape[0], y_val.shape[1]))\n",
    ").reshape(y_val.shape)\n",
    "\n",
    "metric = MeanEuclideanError()\n",
    "print(\"Valid. MEE (real scale):\", metric(y_pred_new, y_val_new))"
   ]
  },
  {
   "cell_type": "markdown",
   "metadata": {},
   "source": [
    "#### 10-5 architecture"
   ]
  },
  {
   "cell_type": "code",
   "execution_count": null,
   "metadata": {},
   "outputs": [],
   "source": [
    "model = Network(9)\n",
    "model.add_layer(10, ReLU())\n",
    "model.add_layer(5, ReLU())\n",
    "model.add_layer(2, Sigmoid())\n",
    "\n",
    "stats = model.train(\n",
    "    eta=10e-3,\n",
    "    nesterov=0.8,\n",
    "    train=(x_train, y_train),\n",
    "    validation=(x_val, y_val),\n",
    "    metric=MeanEuclideanError(),\n",
    "    loss=MeanSquaredError(),\n",
    "    epochs=1000,\n",
    "    callbacks=[EarlyStopping(50)],\n",
    ")"
   ]
  },
  {
   "cell_type": "code",
   "execution_count": null,
   "metadata": {},
   "outputs": [],
   "source": [
    "y_pred = model.multiple_outputs(x_val)\n",
    "\n",
    "y_pred_new = scaler.inverse_transform(\n",
    "    y_pred.reshape((y_pred.shape[0], y_pred.shape[1]))\n",
    ").reshape(y_pred.shape)\n",
    "y_val_new = scaler.inverse_transform(\n",
    "    y_val.reshape((y_val.shape[0], y_val.shape[1]))\n",
    ").reshape(y_val.shape)\n",
    "\n",
    "metric = MeanEuclideanError()\n",
    "print(\"MEE (real scale):\", metric(y_pred_new, y_val_new))"
   ]
  },
  {
   "cell_type": "code",
   "execution_count": null,
   "metadata": {},
   "outputs": [],
   "source": [
    "fig, axs = plt.subplots(1, 2, figsize=(15, 5))\n",
    "\n",
    "sns.lineplot(stats[\"train_loss\"], ax=axs[0])\n",
    "sns.lineplot(stats[\"val_loss\"], ax=axs[0])\n",
    "sns.lineplot(stats[\"train_acc\"], ax=axs[1])\n",
    "sns.lineplot(stats[\"val_acc\"], ax=axs[1])"
   ]
  },
  {
   "cell_type": "markdown",
   "metadata": {},
   "source": [
    "#### 8-8 architecture"
   ]
  },
  {
   "cell_type": "code",
   "execution_count": null,
   "metadata": {},
   "outputs": [],
   "source": [
    "model = Network(9)\n",
    "model.add_layer(8, ReLU())\n",
    "model.add_layer(8, ReLU())\n",
    "model.add_layer(2, Sigmoid())\n",
    "\n",
    "stats = model.train(\n",
    "    eta=10e-3,\n",
    "    nesterov=0.8,\n",
    "    train=(x_train, y_train),\n",
    "    validation=(x_val, y_val),\n",
    "    metric=MeanEuclideanError(),\n",
    "    loss=MeanSquaredError(),\n",
    "    epochs=1000,\n",
    "    callbacks=[EarlyStopping(50)],\n",
    ")"
   ]
  },
  {
   "cell_type": "code",
   "execution_count": null,
   "metadata": {},
   "outputs": [],
   "source": [
    "fig, axs = plt.subplots(1, 2, figsize=(15, 5))\n",
    "\n",
    "sns.lineplot(stats[\"train_loss\"], ax=axs[0])\n",
    "sns.lineplot(stats[\"val_loss\"], ax=axs[0])\n",
    "sns.lineplot(stats[\"train_acc\"], ax=axs[1])\n",
    "sns.lineplot(stats[\"val_acc\"], ax=axs[1])"
   ]
  },
  {
   "cell_type": "code",
   "execution_count": null,
   "metadata": {},
   "outputs": [],
   "source": [
    "y_pred = model.multiple_outputs(x_val)\n",
    "\n",
    "y_pred_new = scaler.inverse_transform(\n",
    "    y_pred.reshape((y_pred.shape[0], y_pred.shape[1]))\n",
    ").reshape(y_pred.shape)\n",
    "y_val_new = scaler.inverse_transform(\n",
    "    y_val.reshape((y_val.shape[0], y_val.shape[1]))\n",
    ").reshape(y_val.shape)\n",
    "\n",
    "metric = MeanEuclideanError()\n",
    "print(\"MEE (real scale):\", metric(y_pred_new, y_val_new))"
   ]
  },
  {
   "cell_type": "markdown",
   "metadata": {},
   "source": [
    "#### 16-8 architecture"
   ]
  },
  {
   "cell_type": "code",
   "execution_count": null,
   "metadata": {},
   "outputs": [],
   "source": [
    "model = Network(9)\n",
    "model.add_layer(16, ReLU())\n",
    "model.add_layer(8, ReLU())\n",
    "model.add_layer(2, Sigmoid())\n",
    "\n",
    "stats = model.train(\n",
    "    eta=10e-3,\n",
    "    nesterov=0.8,\n",
    "    train=(x_train, y_train),\n",
    "    validation=(x_val, y_val),\n",
    "    metric=MeanEuclideanError(),\n",
    "    loss=MeanSquaredError(),\n",
    "    epochs=1000,\n",
    "    callbacks=[EarlyStopping(50)],\n",
    ")\n",
    "\n",
    "fig, axs = plt.subplots(1, 2, figsize=(15, 5))\n",
    "\n",
    "sns.lineplot(stats[\"train_loss\"], ax=axs[0])\n",
    "sns.lineplot(stats[\"val_loss\"], ax=axs[0])\n",
    "sns.lineplot(stats[\"train_acc\"], ax=axs[1])\n",
    "sns.lineplot(stats[\"val_acc\"], ax=axs[1])\n",
    "\n",
    "y_pred = model.multiple_outputs(x_val)\n",
    "\n",
    "y_pred_new = scaler.inverse_transform(\n",
    "    y_pred.reshape((y_pred.shape[0], y_pred.shape[1]))\n",
    ").reshape(y_pred.shape)\n",
    "y_val_new = scaler.inverse_transform(\n",
    "    y_val.reshape((y_val.shape[0], y_val.shape[1]))\n",
    ").reshape(y_val.shape)\n",
    "\n",
    "metric = MeanEuclideanError()\n",
    "print(\"MEE (real scale):\", metric(y_pred_new, y_val_new))\n",
    "print()"
   ]
  },
  {
   "cell_type": "markdown",
   "metadata": {},
   "source": [
    "#### maybe add regularization"
   ]
  },
  {
   "cell_type": "code",
   "execution_count": null,
   "metadata": {},
   "outputs": [],
   "source": [
    "from src.regularizers import L1, L2\n",
    "\n",
    "reg = 1e-7\n",
    "model = Network(9, L2(reg))\n",
    "model.add_layer(16, ReLU())\n",
    "model.add_layer(8, ReLU())\n",
    "model.add_layer(2, Sigmoid())\n",
    "\n",
    "stats = model.train(\n",
    "    eta=10e-3,\n",
    "    nesterov=0.9,\n",
    "    train=(x_train, y_train),\n",
    "    validation=(x_val, y_val),\n",
    "    metric=MeanEuclideanError(),\n",
    "    loss=MeanSquaredError(),\n",
    "    epochs=1000,\n",
    "    callbacks=[EarlyStopping(50)],\n",
    ")\n",
    "\n",
    "fig, axs = plt.subplots(1, 2, figsize=(15, 5))\n",
    "\n",
    "sns.lineplot(stats[\"train_loss\"], ax=axs[0])\n",
    "sns.lineplot(stats[\"val_loss\"], ax=axs[0])\n",
    "sns.lineplot(stats[\"train_acc\"], ax=axs[1])\n",
    "sns.lineplot(stats[\"val_acc\"], ax=axs[1])\n",
    "\n",
    "y_pred = model.multiple_outputs(x_val)\n",
    "\n",
    "y_pred_new = scaler.inverse_transform(\n",
    "    y_pred.reshape((y_pred.shape[0], y_pred.shape[1]))\n",
    ").reshape(y_pred.shape)\n",
    "y_val_new = scaler.inverse_transform(\n",
    "    y_val.reshape((y_val.shape[0], y_val.shape[1]))\n",
    ").reshape(y_val.shape)\n",
    "\n",
    "metric = MeanEuclideanError()\n",
    "print(\"MEE (real scale):\", metric(y_pred_new, y_val_new))"
   ]
  },
  {
   "cell_type": "markdown",
   "metadata": {},
   "source": [
    "#### increase regularization strength"
   ]
  },
  {
   "cell_type": "code",
   "execution_count": null,
   "metadata": {},
   "outputs": [],
   "source": [
    "from src.regularizers import L1, L2\n",
    "\n",
    "reg = 1e-6\n",
    "model = Network(9, L2(reg))\n",
    "model.add_layer(16, ReLU())\n",
    "model.add_layer(16, ReLU())\n",
    "model.add_layer(2, Sigmoid())\n",
    "\n",
    "stats = model.train(\n",
    "    eta=10e-3,\n",
    "    nesterov=0.9,\n",
    "    train=(x_train, y_train),\n",
    "    validation=(x_val, y_val),\n",
    "    metric=MeanEuclideanError(),\n",
    "    loss=MeanSquaredError(),\n",
    "    epochs=1000,\n",
    "    callbacks=[EarlyStopping(50)],\n",
    ")\n",
    "\n",
    "fig, axs = plt.subplots(1, 2, figsize=(15, 5))\n",
    "\n",
    "sns.lineplot(stats[\"train_loss\"], ax=axs[0])\n",
    "sns.lineplot(stats[\"val_loss\"], ax=axs[0])\n",
    "sns.lineplot(stats[\"train_acc\"], ax=axs[1])\n",
    "sns.lineplot(stats[\"val_acc\"], ax=axs[1])\n",
    "\n",
    "y_pred = model.multiple_outputs(x_val)\n",
    "\n",
    "y_pred_new = scaler.inverse_transform(\n",
    "    y_pred.reshape((y_pred.shape[0], y_pred.shape[1]))\n",
    ").reshape(y_pred.shape)\n",
    "y_val_new = scaler.inverse_transform(\n",
    "    y_val.reshape((y_val.shape[0], y_val.shape[1]))\n",
    ").reshape(y_val.shape)\n",
    "\n",
    "metric = MeanEuclideanError()\n",
    "print(\"MEE (real scale):\", metric(y_pred_new, y_val_new))"
   ]
  },
  {
   "cell_type": "markdown",
   "metadata": {},
   "source": [
    "#### 32-16"
   ]
  },
  {
   "cell_type": "code",
   "execution_count": null,
   "metadata": {},
   "outputs": [],
   "source": [
    "from src.regularizers import L1, L2\n",
    "\n",
    "reg = 1e-6\n",
    "model = Network(9, L2(reg))\n",
    "model.add_layer(32, ReLU())\n",
    "model.add_layer(16, ReLU())\n",
    "model.add_layer(2, Sigmoid())\n",
    "\n",
    "stats = model.train(\n",
    "    eta=10e-3,\n",
    "    nesterov=0.6,\n",
    "    train=(x_train, y_train),\n",
    "    validation=(x_val, y_val),\n",
    "    metric=MeanEuclideanError(),\n",
    "    loss=MeanSquaredError(),\n",
    "    epochs=1000,\n",
    "    callbacks=[EarlyStopping(50)],\n",
    ")\n",
    "\n",
    "fig, axs = plt.subplots(1, 2, figsize=(15, 5))\n",
    "\n",
    "sns.lineplot(stats[\"train_loss\"], ax=axs[0])\n",
    "sns.lineplot(stats[\"val_loss\"], ax=axs[0])\n",
    "sns.lineplot(stats[\"train_acc\"], ax=axs[1])\n",
    "sns.lineplot(stats[\"val_acc\"], ax=axs[1])\n",
    "\n",
    "y_pred = model.multiple_outputs(x_val)\n",
    "\n",
    "y_pred_new = scaler.inverse_transform(\n",
    "    y_pred.reshape((y_pred.shape[0], y_pred.shape[1]))\n",
    ").reshape(y_pred.shape)\n",
    "y_val_new = scaler.inverse_transform(\n",
    "    y_val.reshape((y_val.shape[0], y_val.shape[1]))\n",
    ").reshape(y_val.shape)\n",
    "\n",
    "metric = MeanEuclideanError()\n",
    "print(\"MEE (real scale):\", metric(y_pred_new, y_val_new))"
   ]
  },
  {
   "cell_type": "markdown",
   "metadata": {},
   "source": [
    "### overfitting a bit, try improving 16-16 with 24-16"
   ]
  },
  {
   "cell_type": "code",
   "execution_count": null,
   "metadata": {},
   "outputs": [],
   "source": [
    "from src.regularizers import L1, L2\n",
    "\n",
    "reg = 1e-6\n",
    "model = Network(9, L2(reg))\n",
    "model.add_layer(24, ReLU())\n",
    "model.add_layer(16, ReLU())\n",
    "model.add_layer(2, Sigmoid())\n",
    "\n",
    "stats = model.train(\n",
    "    eta=10e-3,\n",
    "    nesterov=0.8,\n",
    "    train=(x_train, y_train),\n",
    "    validation=(x_val, y_val),\n",
    "    metric=MeanEuclideanError(),\n",
    "    loss=MeanSquaredError(),\n",
    "    epochs=1000,\n",
    "    callbacks=[EarlyStopping(50)],\n",
    ")\n",
    "\n",
    "fig, axs = plt.subplots(1, 2, figsize=(15, 5))\n",
    "\n",
    "sns.lineplot(stats[\"train_loss\"], ax=axs[0])\n",
    "sns.lineplot(stats[\"val_loss\"], ax=axs[0])\n",
    "sns.lineplot(stats[\"train_acc\"], ax=axs[1])\n",
    "sns.lineplot(stats[\"val_acc\"], ax=axs[1])\n",
    "\n",
    "y_pred = model.multiple_outputs(x_val)\n",
    "\n",
    "y_pred_new = scaler.inverse_transform(\n",
    "    y_pred.reshape((y_pred.shape[0], y_pred.shape[1]))\n",
    ").reshape(y_pred.shape)\n",
    "y_val_new = scaler.inverse_transform(\n",
    "    y_val.reshape((y_val.shape[0], y_val.shape[1]))\n",
    ").reshape(y_val.shape)\n",
    "\n",
    "metric = MeanEuclideanError()\n",
    "print(\"MEE (real scale):\", metric(y_pred_new, y_val_new))"
   ]
  },
  {
   "cell_type": "markdown",
   "metadata": {},
   "source": [
    "#### Trying 16-24"
   ]
  },
  {
   "cell_type": "code",
   "execution_count": null,
   "metadata": {},
   "outputs": [],
   "source": [
    "from src.regularizers import L1, L2\n",
    "\n",
    "reg = 1e-6\n",
    "model = Network(9, L2(reg))\n",
    "model.add_layer(16, ReLU())\n",
    "model.add_layer(24, ReLU())\n",
    "model.add_layer(2, Sigmoid())\n",
    "\n",
    "stats = model.train(\n",
    "    eta=10e-3,\n",
    "    nesterov=0.8,\n",
    "    train=(x_train, y_train),\n",
    "    validation=(x_val, y_val),\n",
    "    metric=MeanEuclideanError(),\n",
    "    loss=MeanSquaredError(),\n",
    "    epochs=1000,\n",
    "    callbacks=[EarlyStopping(50)],\n",
    ")\n",
    "\n",
    "fig, axs = plt.subplots(1, 2, figsize=(15, 5))\n",
    "\n",
    "sns.lineplot(stats[\"train_loss\"], ax=axs[0])\n",
    "sns.lineplot(stats[\"val_loss\"], ax=axs[0])\n",
    "sns.lineplot(stats[\"train_acc\"], ax=axs[1])\n",
    "sns.lineplot(stats[\"val_acc\"], ax=axs[1])\n",
    "\n",
    "y_pred = model.multiple_outputs(x_val)\n",
    "\n",
    "y_pred_new = scaler.inverse_transform(\n",
    "    y_pred.reshape((y_pred.shape[0], y_pred.shape[1]))\n",
    ").reshape(y_pred.shape)\n",
    "y_val_new = scaler.inverse_transform(\n",
    "    y_val.reshape((y_val.shape[0], y_val.shape[1]))\n",
    ").reshape(y_val.shape)\n",
    "\n",
    "metric = MeanEuclideanError()\n",
    "print(\"MEE (real scale):\", metric(y_pred_new, y_val_new))"
   ]
  },
  {
   "cell_type": "markdown",
   "metadata": {},
   "source": [
    "#### Try 24-24"
   ]
  },
  {
   "cell_type": "code",
   "execution_count": null,
   "metadata": {},
   "outputs": [],
   "source": [
    "from src.regularizers import L1, L2\n",
    "\n",
    "reg = 1e-6\n",
    "model = Network(9, L2(reg))\n",
    "model.add_layer(24, ReLU())\n",
    "model.add_layer(24, ReLU())\n",
    "model.add_layer(2, Sigmoid())\n",
    "\n",
    "stats = model.train(\n",
    "    eta=10e-3,\n",
    "    nesterov=0.8,\n",
    "    train=(x_train, y_train),\n",
    "    validation=(x_val, y_val),\n",
    "    metric=MeanEuclideanError(),\n",
    "    loss=MeanSquaredError(),\n",
    "    epochs=1000,\n",
    "    callbacks=[EarlyStopping(50)],\n",
    ")\n",
    "\n",
    "fig, axs = plt.subplots(1, 2, figsize=(15, 5))\n",
    "\n",
    "sns.lineplot(stats[\"train_loss\"], ax=axs[0])\n",
    "sns.lineplot(stats[\"val_loss\"], ax=axs[0])\n",
    "sns.lineplot(stats[\"train_acc\"], ax=axs[1])\n",
    "sns.lineplot(stats[\"val_acc\"], ax=axs[1])\n",
    "\n",
    "y_pred = model.multiple_outputs(x_val)\n",
    "\n",
    "y_pred_new = scaler.inverse_transform(\n",
    "    y_pred.reshape((y_pred.shape[0], y_pred.shape[1]))\n",
    ").reshape(y_pred.shape)\n",
    "y_val_new = scaler.inverse_transform(\n",
    "    y_val.reshape((y_val.shape[0], y_val.shape[1]))\n",
    ").reshape(y_val.shape)\n",
    "\n",
    "metric = MeanEuclideanError()\n",
    "print(\"MEE (real scale):\", metric(y_pred_new, y_val_new))"
   ]
  },
  {
   "cell_type": "markdown",
   "metadata": {},
   "source": [
    "# GridSearch"
   ]
  },
  {
   "cell_type": "markdown",
   "metadata": {},
   "source": [
    "### Starting with 16-24"
   ]
  },
  {
   "cell_type": "code",
   "execution_count": null,
   "metadata": {},
   "outputs": [],
   "source": [
    "from src.search import grid_search_cv\n",
    "from src.regularizers import L1, L2\n",
    "from src.validation import kfold_cv\n",
    "\n",
    "X, y, scaler = load_cup(validation=False, scale_outputs=True)\n",
    "y_train.shape"
   ]
  },
  {
   "cell_type": "code",
   "execution_count": null,
   "metadata": {},
   "outputs": [],
   "source": [
    "model = Network(9)\n",
    "model.add_layer(16, ReLU())\n",
    "model.add_layer(24, ReLU())\n",
    "model.add_layer(2, Sigmoid())\n",
    "\n",
    "kfold_cv(\n",
    "    model=model,\n",
    "    k=3,\n",
    "    x=X,\n",
    "    y=y,\n",
    "    loss=MeanSquaredError(),\n",
    "    metric=MeanEuclideanError(),\n",
    "    epochs=20,\n",
    "    eta=10e-3,\n",
    "    nesterov=0.8,\n",
    "    scaler=scaler,\n",
    "    verbose=True,\n",
    ")"
   ]
  },
  {
   "attachments": {},
   "cell_type": "markdown",
   "metadata": {},
   "source": [
    "## Try 3 Hidden Layer"
   ]
  },
  {
   "cell_type": "code",
   "execution_count": null,
   "metadata": {},
   "outputs": [],
   "source": [
    "from src.regularizers import L1, L2\n",
    "\n",
    "reg = 1e-8\n",
    "model = Network(9, L2(reg))\n",
    "model.add_layer(128, ReLU())\n",
    "model.add_layer(64, ReLU())\n",
    "model.add_layer(32, ReLU())\n",
    "model.add_layer(2, Sigmoid())\n",
    "\n",
    "stats = model.train(\n",
    "    eta=10e-4,\n",
    "    nesterov=0.9,\n",
    "    train=(x_train, y_train),\n",
    "    validation=(x_val, y_val),\n",
    "    metric=MeanEuclideanError(),\n",
    "    loss=MeanSquaredError(),\n",
    "    epochs=1000,\n",
    "    callbacks=[EarlyStopping(50)],\n",
    ")\n",
    "\n",
    "fig, axs = plt.subplots(1, 2, figsize=(15, 5))\n",
    "# add title to figure\n",
    "fig.suptitle(\"CUP\", fontsize=16)\n",
    "\n",
    "sns.lineplot(stats[\"train_loss\"], ax=axs[0], label=\"Training\")\n",
    "sns.lineplot(stats[\"val_loss\"], ax=axs[0], label=\"Validation\", linestyle=\"--\")\n",
    "sns.lineplot(stats[\"train_acc\"], ax=axs[1], label=\"Training\")\n",
    "sns.lineplot(stats[\"val_acc\"], ax=axs[1], label=\"Validation\", linestyle=\"--\")\n",
    "\n",
    "# add title and legend\n",
    "axs[0].set_title(\"Loss\", fontsize=14)\n",
    "axs[1].set_title(\"Accuracy\", fontsize=14)\n",
    "axs[0].legend(fontsize=12)\n",
    "axs[1].legend(fontsize=12)\n",
    "# increase font size\n",
    "axs[0].tick_params(labelsize=12)\n",
    "axs[1].tick_params(labelsize=12)\n",
    "\n",
    "y_pred = model.multiple_outputs(x_val)\n",
    "\n",
    "y_pred_new = scaler.inverse_transform(\n",
    "    y_pred.reshape((y_pred.shape[0], y_pred.shape[1]))\n",
    ").reshape(y_pred.shape)\n",
    "y_val_new = scaler.inverse_transform(\n",
    "    y_val.reshape((y_val.shape[0], y_val.shape[1]))\n",
    ").reshape(y_val.shape)\n",
    "\n",
    "metric = MeanEuclideanError()\n",
    "print(\"MEE (real scale):\", metric(y_pred_new, y_val_new))"
   ]
  }
 ],
 "metadata": {
  "kernelspec": {
   "display_name": "venv",
   "language": "python",
   "name": "python3"
  },
  "language_info": {
   "codemirror_mode": {
    "name": "ipython",
    "version": 3
   },
   "file_extension": ".py",
   "mimetype": "text/x-python",
   "name": "python",
   "nbconvert_exporter": "python",
   "pygments_lexer": "ipython3",
   "version": "3.11.1 (main, Dec 23 2022, 09:39:26) [Clang 14.0.0 (clang-1400.0.29.202)]"
  },
  "vscode": {
   "interpreter": {
    "hash": "a29ded6e616d7585d61f3771ec5a363b94eb99ca2ded5b8798d9842f646a5745"
   }
  }
 },
 "nbformat": 4,
 "nbformat_minor": 4
}
