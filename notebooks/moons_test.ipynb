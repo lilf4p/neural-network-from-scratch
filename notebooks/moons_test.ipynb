{
 "cells": [
  {
   "cell_type": "code",
   "execution_count": 1,
   "metadata": {
    "collapsed": false,
    "jupyter": {
     "outputs_hidden": false
    }
   },
   "outputs": [],
   "source": [
    "import sys\n",
    "sys.path.append('../')\n",
    "sys.path.append('../src/')\n",
    "\n",
    "import seaborn as sns\n",
    "import matplotlib.pyplot as plt\n",
    "import matplotlib as mpl\n",
    "import pandas as pd\n",
    "import numpy as np\n",
    "\n",
    "from src.utils import load_moons, load_monk1, load_mnist\n",
    "from src.network import Network\n",
    "from src.activations import ReLU, Tanh, Sigmoid\n",
    "from src.losses import MeanSquaredError\n",
    "from src.metrics import BinaryAccuracy, MulticlassAccuracy, MeanEuclideanError\n",
    "\n",
    "from sklearn.metrics import accuracy_score\n",
    "from sklearn.preprocessing import MinMaxScaler\n",
    "from sklearn.model_selection import train_test_split"
   ]
  },
  {
   "cell_type": "markdown",
   "metadata": {},
   "source": [
    "## Moons Dataset"
   ]
  },
  {
   "cell_type": "code",
   "execution_count": null,
   "metadata": {
    "collapsed": false,
    "jupyter": {
     "outputs_hidden": false
    }
   },
   "outputs": [],
   "source": [
    "x_train, x_val, x_test, y_train, y_val, y_test = load_moons(validation=True, noise=0.2)"
   ]
  },
  {
   "cell_type": "code",
   "execution_count": null,
   "metadata": {
    "collapsed": false,
    "jupyter": {
     "outputs_hidden": false
    }
   },
   "outputs": [],
   "source": [
    "model = Network(2)\n",
    "model.add_layer(8, ReLU())\n",
    "model.add_layer(1, Tanh())\n",
    "\n",
    "# create stats\n",
    "stats = model.train(train=(x_train, y_train), validation=(x_val, y_val), metric=BinaryAccuracy(), loss=MeanSquaredError(), epochs=500, eta=0.01)"
   ]
  },
  {
   "cell_type": "code",
   "execution_count": null,
   "metadata": {
    "collapsed": false,
    "jupyter": {
     "outputs_hidden": false
    }
   },
   "outputs": [],
   "source": [
    "fig, axs = plt.subplots(1, 2, figsize=(15, 5))\n",
    "\n",
    "sns.lineplot(stats['train_loss'], ax=axs[0])\n",
    "sns.lineplot(stats['val_loss'], ax=axs[0])\n",
    "sns.lineplot(stats['train_acc'], ax=axs[1])\n",
    "sns.lineplot(stats['val_acc'], ax=axs[1])"
   ]
  },
  {
   "cell_type": "code",
   "execution_count": null,
   "metadata": {
    "collapsed": false,
    "jupyter": {
     "outputs_hidden": false
    }
   },
   "outputs": [],
   "source": [
    "predictions = model.multiple_outputs(x_test)\n",
    "\n",
    "accuracy_score(y_test.flatten(), np.round(predictions.flatten()))"
   ]
  },
  {
   "cell_type": "code",
   "execution_count": null,
   "metadata": {
    "collapsed": false,
    "jupyter": {
     "outputs_hidden": false
    }
   },
   "outputs": [],
   "source": [
    "x_train, x_val, x_test, y_train, y_val, y_test = load_monk1()"
   ]
  },
  {
   "cell_type": "code",
   "execution_count": null,
   "metadata": {
    "collapsed": false,
    "jupyter": {
     "outputs_hidden": false
    }
   },
   "outputs": [],
   "source": [
    "model = Network(17)\n",
    "model.add_layer(6, ReLU())\n",
    "model.add_layer(1, Tanh())\n",
    "stats = model.train((x_train, y_train), (x_test, y_test), metric=BinaryAccuracy(), loss=MeanSquaredError(), epochs=1000)"
   ]
  },
  {
   "cell_type": "code",
   "execution_count": null,
   "metadata": {
    "collapsed": false,
    "jupyter": {
     "outputs_hidden": false
    }
   },
   "outputs": [],
   "source": [
    "fig, axs = plt.subplots(1, 2, figsize=(15, 5))\n",
    "\n",
    "sns.lineplot(stats['train_loss'], ax=axs[0])\n",
    "sns.lineplot(stats['val_loss'], ax=axs[0])\n",
    "sns.lineplot(stats['train_acc'], ax=axs[1])\n",
    "sns.lineplot(stats['val_acc'], ax=axs[1])\n"
   ]
  },
  {
   "cell_type": "code",
   "execution_count": null,
   "metadata": {
    "collapsed": false,
    "jupyter": {
     "outputs_hidden": false
    }
   },
   "outputs": [],
   "source": [
    "x_train, x_test, y_train, y_test = load_mnist()"
   ]
  },
  {
   "cell_type": "code",
   "execution_count": null,
   "metadata": {
    "collapsed": false,
    "jupyter": {
     "outputs_hidden": false
    }
   },
   "outputs": [],
   "source": [
    "model = Network(64)\n",
    "model.add_layer(16, ReLU())\n",
    "model.add_layer(10, Sigmoid(0.001))\n",
    "stats = model.train(x_train, y_train, x_test, y_test, metric=MulticlassAccuracy(), loss=MeanSquaredError(), epochs=500)"
   ]
  },
  {
   "cell_type": "code",
   "execution_count": null,
   "metadata": {
    "collapsed": false,
    "jupyter": {
     "outputs_hidden": false
    }
   },
   "outputs": [],
   "source": [
    "fig, axs = plt.subplots(1, 2, figsize=(15, 5))\n",
    "\n",
    "sns.lineplot(stats['train_loss'], ax=axs[0])\n",
    "sns.lineplot(stats['val_loss'], ax=axs[0])\n",
    "sns.lineplot(stats['train_acc'], ax=axs[1])\n",
    "sns.lineplot(stats['val_acc'], ax=axs[1])"
   ]
  },
  {
   "cell_type": "code",
   "execution_count": 2,
   "metadata": {},
   "outputs": [],
   "source": [
    "def load_cup(test_size=0.2):\n",
    "    df = pd.read_csv(\"../data/cup/cup.train\", comment=\"#\", index_col='id', skipinitialspace=True)\n",
    "    scaler = MinMaxScaler()\n",
    "    scaled = pd.DataFrame(scaler.fit_transform(df), columns=df.columns)\n",
    "    x_train, x_val, y_train, y_val = train_test_split(scaled.drop([\"ty\", 'tx'], axis=1).values, scaled[['tx','ty']].values, test_size=0.25, random_state=42)\n",
    "    x_train = np.expand_dims(x_train, 2)\n",
    "    x_val = np.expand_dims(x_val, 2)\n",
    "    y_train = np.expand_dims(y_train, 2) \n",
    "    y_val = np.expand_dims(y_val, 2) \n",
    "    \n",
    "    return x_train, x_val, y_train, y_val"
   ]
  },
  {
   "cell_type": "code",
   "execution_count": 3,
   "metadata": {},
   "outputs": [
    {
     "data": {
      "text/plain": [
       "(1119, 9, 1)"
      ]
     },
     "execution_count": 3,
     "metadata": {},
     "output_type": "execute_result"
    }
   ],
   "source": [
    "x_train, x_val, y_train, y_val = load_cup()\n",
    "x_train.shape"
   ]
  },
  {
   "cell_type": "code",
   "execution_count": 4,
   "metadata": {},
   "outputs": [
    {
     "name": "stderr",
     "output_type": "stream",
     "text": [
      "Training: 100%|██████████| 1000/1000[, loss=0.00534, val_loss=0.0058, val_acc=0.0885]\n"
     ]
    }
   ],
   "source": [
    "model = Network(9)\n",
    "model.add_layer(16, ReLU())\n",
    "model.add_layer(8, ReLU())\n",
    "model.add_layer(2, Sigmoid())\n",
    "\n",
    "stats = model.train((x_train, y_train), (x_val, y_val), metric=MeanEuclideanError(), loss=MeanSquaredError(), epochs=1000\n",
    "                    callbacks=[])"
   ]
  },
  {
   "cell_type": "code",
   "execution_count": 5,
   "metadata": {},
   "outputs": [
    {
     "data": {
      "text/plain": [
       "<AxesSubplot: >"
      ]
     },
     "execution_count": 5,
     "metadata": {},
     "output_type": "execute_result"
    },
    {
     "data": {
      "image/png": "[encoded data removed]",
      "text/plain": [
       "<Figure size 1500x500 with 2 Axes>"
      ]
     },
     "metadata": {},
     "output_type": "display_data"
    }
   ],
   "source": [
    "fig, axs = plt.subplots(1, 2, figsize=(15, 5))\n",
    "\n",
    "sns.lineplot(stats['train_loss'], ax=axs[0])\n",
    "sns.lineplot(stats['val_loss'], ax=axs[0])\n",
    "sns.lineplot(stats['train_acc'], ax=axs[1])\n",
    "sns.lineplot(stats['val_acc'], ax=axs[1])\n"
   ]
  }
 ],
 "metadata": {
  "kernelspec": {
   "display_name": "tf2:Python",
   "language": "python",
   "name": "conda-env-tf2-py"
  },
  "language_info": {
   "codemirror_mode": {
    "name": "ipython",
    "version": 3
   },
   "file_extension": ".py",
   "mimetype": "text/x-python",
   "name": "python",
   "nbconvert_exporter": "python",
   "pygments_lexer": "ipython3",
   "version": "3.10.8"
  }
 },
 "nbformat": 4,
 "nbformat_minor": 4
}
