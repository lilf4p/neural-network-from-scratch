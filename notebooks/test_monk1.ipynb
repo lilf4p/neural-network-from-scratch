{
 "cells": [
  {
   "cell_type": "code",
   "execution_count": 1,
   "metadata": {},
   "outputs": [],
   "source": [
    "import sys\n",
    "sys.path.append('../')\n",
    "sys.path.append('../src/')\n",
    "\n",
    "import seaborn as sns\n",
    "import matplotlib.pyplot as plt\n",
    "import matplotlib as mpl\n",
    "import pandas as pd\n",
    "import numpy as np\n",
    "\n",
    "from src.utils import load_monk2, load_monk3, load_monk1\n",
    "from src.network import Network\n",
    "from src.activations import ReLU, Tanh, Sigmoid\n",
    "from src.losses import MeanSquaredError\n",
    "from src.metrics import BinaryAccuracy, MulticlassAccuracy, MeanEuclideanError\n",
    "from src.regularizers import L2, L1\n",
    "from sklearn.metrics import accuracy_score\n",
    "from sklearn.preprocessing import MinMaxScaler\n",
    "from sklearn.model_selection import train_test_split\n",
    "from src.callbacks import EarlyStopping, Callback"
   ]
  },
  {
   "cell_type": "code",
   "execution_count": 2,
   "metadata": {},
   "outputs": [],
   "source": [
    "x_train, x_val, x_test, y_train, y_val, y_test = load_monk1()"
   ]
  },
  {
   "cell_type": "code",
   "execution_count": 3,
   "metadata": {},
   "outputs": [],
   "source": [
    "model = Network(17)\n",
    "model.add_layer(4, ReLU())\n",
    "model.add_layer(1, Sigmoid(), initializer='xavier')"
   ]
  },
  {
   "cell_type": "code",
   "execution_count": 4,
   "metadata": {},
   "outputs": [
    {
     "name": "stderr",
     "output_type": "stream",
     "text": [
      "Training: 100%|██████████| 1000/1000[, loss=5.85e-5, val_loss=0.000389, val_acc=1]\n",
      "Training: 100%|██████████| 1000/1000[, loss=2.87e-5, val_loss=0.000193, val_acc=1]\n",
      "Training: 100%|██████████| 1000/1000[, loss=1.89e-5, val_loss=0.000127, val_acc=1]\n",
      "Training: 100%|██████████| 1000/1000[, loss=1.41e-5, val_loss=9.42e-5, val_acc=1]\n",
      "Training: 100%|██████████| 1000/1000[, loss=1.13e-5, val_loss=7.47e-5, val_acc=1]\n",
      "Training: 100%|██████████| 1000/1000[, loss=9.35e-6, val_loss=6.17e-5, val_acc=1]\n",
      "Training: 100%|██████████| 1000/1000[, loss=8e-6, val_loss=5.24e-5, val_acc=1]  \n",
      "Training: 100%|██████████| 1000/1000[, loss=6.98e-6, val_loss=4.55e-5, val_acc=1]\n",
      "Training: 100%|█████████▉| 999/1000[, loss=6.2e-6, val_loss=4.02e-5, val_acc=1] "
     ]
    },
    {
     "name": "stdout",
     "output_type": "stream",
     "text": [
      "Average Train MSE:  0.00011975121982041168\n",
      "Average Train Accuracy:  1.0\n",
      "Average Test MSE:  0.0006221043800065007\n",
      "Average Test Accuracy:  1.0\n"
     ]
    },
    {
     "name": "stderr",
     "output_type": "stream",
     "text": [
      "Training: 100%|██████████| 1000/1000[, loss=6.2e-6, val_loss=4.02e-5, val_acc=1]"
     ]
    }
   ],
   "source": [
    "train_mse = []\n",
    "train_acc = []\n",
    "test_mse = []\n",
    "test_acc = []\n",
    "for i in range(1,10):\n",
    "    stats = model.train((x_train, y_train),(x_val, y_val),\n",
    "        metric=BinaryAccuracy(), \n",
    "        loss=MeanSquaredError(), \n",
    "        epochs=1000, \n",
    "        eta=0.1, \n",
    "        nesterov=0.9, \n",
    "        callbacks=[EarlyStopping(patience=100)], \n",
    "        verbose=True)\n",
    "    train_mse.append(stats['val_loss'][-1])\n",
    "    train_acc.append(stats['val_acc'][-1])\n",
    "\n",
    "    y_pred = model.multiple_outputs(x_test)\n",
    "    binary_accuracy = BinaryAccuracy()\n",
    "    acc = binary_accuracy(y_pred, y_test)\n",
    "    test_acc.append(acc)\n",
    "\n",
    "    mse = MeanSquaredError()\n",
    "    mse = mse.loss(y_pred, y_test)\n",
    "    test_mse.append(mse)\n",
    "\n",
    "# average over 10 runs\n",
    "print('Average Train MSE: ', np.mean(train_mse))\n",
    "print('Average Train Accuracy: ', np.mean(train_acc))\n",
    "print('Average Test MSE: ', np.mean(test_mse))\n",
    "print('Average Test Accuracy: ', np.mean(test_acc))\n"
   ]
  },
  {
   "cell_type": "code",
   "execution_count": null,
   "metadata": {},
   "outputs": [],
   "source": [
    "fig, axs = plt.subplots(1, 2, figsize=(15, 5))\n",
    "#add title to figure\n",
    "fig.suptitle('Monk 1', fontsize=16)\n",
    "\n",
    "sns.lineplot(stats['train_loss'], ax=axs[0], label='Training')\n",
    "sns.lineplot(stats['val_loss'], ax=axs[0], label='Validation', linestyle='--')\n",
    "sns.lineplot(stats['train_acc'], ax=axs[1], label='Training')\n",
    "sns.lineplot(stats['val_acc'], ax=axs[1], label='Validation', linestyle='--')\n",
    "\n",
    "#add title and legend\n",
    "axs[0].set_title('Loss', fontsize=14)\n",
    "axs[1].set_title('Accuracy', fontsize=14)\n",
    "axs[0].legend(fontsize=12)\n",
    "axs[1].legend(fontsize=12)\n",
    "#increase font size\n",
    "axs[0].tick_params(labelsize=12)\n",
    "axs[1].tick_params(labelsize=12)"
   ]
  },
  {
   "cell_type": "code",
   "execution_count": null,
   "metadata": {},
   "outputs": [],
   "source": [
    "#compute accuracy on test set\n",
    "# compute accuracy\n",
    "y_pred = model.multiple_outputs(x_test)\n",
    "mse = MeanSquaredError()\n",
    "mse_acc = mse.loss(y_pred, y_test)\n",
    "print(mse_acc)"
   ]
  }
 ],
 "metadata": {
  "kernelspec": {
   "display_name": "Python 3",
   "language": "python",
   "name": "python3"
  },
  "language_info": {
   "codemirror_mode": {
    "name": "ipython",
    "version": 3
   },
   "file_extension": ".py",
   "mimetype": "text/x-python",
   "name": "python",
   "nbconvert_exporter": "python",
   "pygments_lexer": "ipython3",
   "version": "3.10.8"
  },
  "orig_nbformat": 4,
  "vscode": {
   "interpreter": {
    "hash": "b0fa6594d8f4cbf19f97940f81e996739fb7646882a419484c72d19e05852a7e"
   }
  }
 },
 "nbformat": 4,
 "nbformat_minor": 2
}
