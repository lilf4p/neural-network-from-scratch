{
 "cells": [
  {
   "cell_type": "code",
   "execution_count": null,
   "metadata": {
    "collapsed": true
   },
   "outputs": [],
   "source": [
    "import sys\n",
    "\n",
    "sys.path.append(\"../\")\n",
    "sys.path.append(\"../src/\")\n",
    "\n",
    "import seaborn as sns\n",
    "import matplotlib.pyplot as plt\n",
    "import matplotlib as mpl\n",
    "import pandas as pd\n",
    "import numpy as np\n",
    "\n",
    "from src.utils import load_moons, load_monk1, load_mnist\n",
    "from src.network import Network\n",
    "from src.activations import ReLU, Tanh, Sigmoid\n",
    "from src.losses import MeanSquaredError\n",
    "from src.metrics import BinaryAccuracy, MulticlassAccuracy, MeanEuclideanError\n",
    "from src.regularizers import L2, L1\n",
    "from sklearn.metrics import accuracy_score\n",
    "from sklearn.preprocessing import MinMaxScaler\n",
    "from sklearn.model_selection import train_test_split\n",
    "from src.callbacks import EarlyStopping, Callback"
   ]
  },
  {
   "attachments": {},
   "cell_type": "markdown",
   "metadata": {},
   "source": [
    "# MONK 1"
   ]
  },
  {
   "cell_type": "code",
   "execution_count": null,
   "metadata": {
    "collapsed": false
   },
   "outputs": [],
   "source": [
    "x_train, x_test, y_train, y_test = load_monk1(validation=False)"
   ]
  },
  {
   "cell_type": "code",
   "execution_count": null,
   "metadata": {},
   "outputs": [],
   "source": [
    "model = Network(17)\n",
    "model.add_layer(4, ReLU())\n",
    "model.add_layer(1, Sigmoid())"
   ]
  },
  {
   "cell_type": "code",
   "execution_count": null,
   "metadata": {
    "collapsed": false
   },
   "outputs": [],
   "source": [
    "try:\n",
    "    stats = model.train(\n",
    "        (x_train, y_train),\n",
    "        (x_test, y_test),\n",
    "        metric=BinaryAccuracy(),\n",
    "        loss=MeanSquaredError(),\n",
    "        epochs=500,\n",
    "        eta=0.01,\n",
    "        nesterov=0.8,\n",
    "        verbose=True,\n",
    "    )\n",
    "except KeyboardInterrupt:\n",
    "    model.bar.close()"
   ]
  },
  {
   "cell_type": "code",
   "execution_count": null,
   "metadata": {
    "collapsed": false
   },
   "outputs": [],
   "source": [
    "fig, axs = plt.subplots(1, 2, figsize=(15, 5))\n",
    "\n",
    "sns.lineplot(stats[\"train_loss\"], ax=axs[0])\n",
    "sns.lineplot(stats[\"val_loss\"], ax=axs[0])\n",
    "sns.lineplot(stats[\"train_acc\"], ax=axs[1])\n",
    "sns.lineplot(stats[\"val_acc\"], ax=axs[1])"
   ]
  },
  {
   "attachments": {},
   "cell_type": "markdown",
   "metadata": {},
   "source": [
    "## MONK 2"
   ]
  },
  {
   "cell_type": "code",
   "execution_count": null,
   "metadata": {},
   "outputs": [],
   "source": [
    "from src.utils import load_monk2\n",
    "\n",
    "x_train, x_test, y_train, y_test = load_monk2(validation=False)\n",
    "\n",
    "model = Network(17)\n",
    "model.add_layer(4, ReLU())\n",
    "model.add_layer(1, Sigmoid(), initializer=\"xavier\")\n",
    "\n",
    "try:\n",
    "    stats = model.train(\n",
    "        (x_train, y_train),\n",
    "        (x_test, y_test),\n",
    "        metric=BinaryAccuracy(),\n",
    "        loss=MeanSquaredError(),\n",
    "        epochs=200,\n",
    "        eta=0.01,\n",
    "        nesterov=0.8,\n",
    "        verbose=True,\n",
    "    )\n",
    "except KeyboardInterrupt:\n",
    "    model.bar.close()"
   ]
  },
  {
   "cell_type": "code",
   "execution_count": null,
   "metadata": {},
   "outputs": [],
   "source": [
    "fig, axs = plt.subplots(1, 2, figsize=(15, 5))\n",
    "\n",
    "sns.lineplot(stats[\"train_loss\"], ax=axs[0])\n",
    "sns.lineplot(stats[\"val_loss\"], ax=axs[0])\n",
    "sns.lineplot(stats[\"train_acc\"], ax=axs[1])\n",
    "sns.lineplot(stats[\"val_acc\"], ax=axs[1])"
   ]
  },
  {
   "attachments": {},
   "cell_type": "markdown",
   "metadata": {},
   "source": [
    "## MONK Test 3"
   ]
  },
  {
   "attachments": {},
   "cell_type": "markdown",
   "metadata": {},
   "source": [
    "#### Trying without regularizer"
   ]
  },
  {
   "cell_type": "code",
   "execution_count": null,
   "metadata": {},
   "outputs": [],
   "source": [
    "from src.utils import load_monk3\n",
    "\n",
    "x_train, x_test, y_train, y_test = load_monk3(validation=False)\n",
    "\n",
    "model = Network(17)\n",
    "model.add_layer(4, ReLU())\n",
    "model.add_layer(1, Sigmoid(), initializer=\"xavier\")\n",
    "\n",
    "try:\n",
    "    stats = model.train(\n",
    "        (x_train, y_train),\n",
    "        (x_test, y_test),\n",
    "        metric=BinaryAccuracy(),\n",
    "        loss=MeanSquaredError(),\n",
    "        epochs=200,\n",
    "        eta=0.01,\n",
    "        nesterov=0.8,\n",
    "        verbose=True,\n",
    "    )\n",
    "except KeyboardInterrupt:\n",
    "    model.bar.close()"
   ]
  },
  {
   "cell_type": "code",
   "execution_count": null,
   "metadata": {},
   "outputs": [],
   "source": [
    "fig, axs = plt.subplots(1, 2, figsize=(15, 5))\n",
    "\n",
    "sns.lineplot(stats[\"train_loss\"], ax=axs[0])\n",
    "sns.lineplot(stats[\"val_loss\"], ax=axs[0])\n",
    "sns.lineplot(stats[\"train_acc\"], ax=axs[1])\n",
    "sns.lineplot(stats[\"val_acc\"], ax=axs[1])"
   ]
  },
  {
   "attachments": {},
   "cell_type": "markdown",
   "metadata": {},
   "source": [
    "#### Monk's 3 without regularization started overfitting soon. Try regularizing with earlystopping."
   ]
  },
  {
   "cell_type": "code",
   "execution_count": null,
   "metadata": {},
   "outputs": [],
   "source": [
    "model = Network(17)\n",
    "model.add_layer(4, ReLU())\n",
    "model.add_layer(1, Sigmoid(), initializer=\"xavier\")\n",
    "\n",
    "try:\n",
    "    stats = model.train(\n",
    "        (x_train, y_train),\n",
    "        (x_test, y_test),\n",
    "        metric=BinaryAccuracy(),\n",
    "        loss=MeanSquaredError(),\n",
    "        epochs=500,\n",
    "        eta=0.01,\n",
    "        nesterov=0.8,\n",
    "        callbacks=[EarlyStopping(patience=30)],\n",
    "        verbose=True,\n",
    "    )\n",
    "except KeyboardInterrupt:\n",
    "    model.bar.close()"
   ]
  },
  {
   "cell_type": "code",
   "execution_count": null,
   "metadata": {},
   "outputs": [],
   "source": [
    "fig, axs = plt.subplots(1, 2, figsize=(15, 5))\n",
    "\n",
    "sns.lineplot(stats[\"train_loss\"], ax=axs[0])\n",
    "sns.lineplot(stats[\"val_loss\"], ax=axs[0])\n",
    "sns.lineplot(stats[\"train_acc\"], ax=axs[1])\n",
    "sns.lineplot(stats[\"val_acc\"], ax=axs[1])"
   ]
  },
  {
   "cell_type": "code",
   "execution_count": null,
   "metadata": {},
   "outputs": [],
   "source": [
    "# compute accuracy on test set\n",
    "y_pred = model.multiple_outputs(x_test)\n",
    "y_pred = np.where(y_pred > 0.5, 1, 0)\n",
    "print(\"Accuracy on test set: \", accuracy_score(y_test.flatten(), y_pred.flatten()))"
   ]
  },
  {
   "attachments": {},
   "cell_type": "markdown",
   "metadata": {},
   "source": [
    "#### Much better, now try to regularize with L2 regularization."
   ]
  },
  {
   "cell_type": "code",
   "execution_count": null,
   "metadata": {},
   "outputs": [],
   "source": [
    "from src.regularizers import L2, L1\n",
    "\n",
    "model = Network(17, L2(1e-5))\n",
    "model.add_layer(4, ReLU())\n",
    "model.add_layer(1, Sigmoid(), initializer=\"xavier\")\n",
    "\n",
    "try:\n",
    "    stats = model.train(\n",
    "        (x_train, y_train),\n",
    "        (x_test, y_test),\n",
    "        metric=BinaryAccuracy(),\n",
    "        loss=MeanSquaredError(),\n",
    "        epochs=500,\n",
    "        eta=0.01,\n",
    "        nesterov=0.8,\n",
    "        callbacks=[EarlyStopping(patience=30)],\n",
    "        verbose=True,\n",
    "    )\n",
    "except KeyboardInterrupt:\n",
    "    model.bar.close()"
   ]
  },
  {
   "cell_type": "code",
   "execution_count": null,
   "metadata": {},
   "outputs": [],
   "source": [
    "# compute accuracy on test set\n",
    "y_pred = model.multiple_outputs(x_test)\n",
    "y_pred = np.where(y_pred > 0.5, 1, 0)\n",
    "print(\"Accuracy on test set: \", accuracy_score(y_test.flatten(), y_pred.flatten()))"
   ]
  },
  {
   "cell_type": "code",
   "execution_count": null,
   "metadata": {},
   "outputs": [],
   "source": [
    "fig, axs = plt.subplots(1, 2, figsize=(15, 5))\n",
    "\n",
    "sns.lineplot(stats[\"train_loss\"], ax=axs[0])\n",
    "sns.lineplot(stats[\"val_loss\"], ax=axs[0])\n",
    "sns.lineplot(stats[\"train_acc\"], ax=axs[1])\n",
    "sns.lineplot(stats[\"val_acc\"], ax=axs[1])"
   ]
  }
 ],
 "metadata": {
  "kernelspec": {
   "display_name": "Python 3 (ipykernel)",
   "language": "python",
   "name": "python3"
  },
  "language_info": {
   "codemirror_mode": {
    "name": "ipython",
    "version": 3
   },
   "file_extension": ".py",
   "mimetype": "text/x-python",
   "name": "python",
   "nbconvert_exporter": "python",
   "pygments_lexer": "ipython3",
   "version": "3.11.1"
  },
  "vscode": {
   "interpreter": {
    "hash": "a29ded6e616d7585d61f3771ec5a363b94eb99ca2ded5b8798d9842f646a5745"
   }
  }
 },
 "nbformat": 4,
 "nbformat_minor": 0
}
