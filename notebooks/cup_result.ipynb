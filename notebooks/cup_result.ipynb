{
 "cells": [
  {
   "cell_type": "code",
   "execution_count": null,
   "metadata": {},
   "outputs": [],
   "source": [
    "import sys\n",
    "sys.path.append('..')\n",
    "\n",
    "import pandas as pd\n",
    "import numpy as np\n",
    "from src.utils import parse_results"
   ]
  },
  {
   "cell_type": "code",
   "execution_count": null,
   "metadata": {},
   "outputs": [],
   "source": [
    "res2416 = pd.read_csv(\"./results2416.csv\")\n",
    "res3216 = pd.read_csv(\"./results3216.csv\")\n",
    "\n",
    "res2416.sort_values(by=['accuracy'], ascending=True)\n",
    "res2416['arch'] = ['2416' for _ in range(len(res2416))]\n",
    "res2416"
   ]
  },
  {
   "cell_type": "code",
   "execution_count": null,
   "metadata": {},
   "outputs": [],
   "source": [
    "res3216['arch'] = ['3216' for _ in range(len(res3216))]\n",
    "res3216.sort_values(by=['accuracy'], ascending=True)"
   ]
  },
  {
   "cell_type": "code",
   "execution_count": null,
   "metadata": {},
   "outputs": [],
   "source": [
    "# merge results\n",
    "res = pd.concat([res2416, res3216])\n",
    "res['reg_val'] = res['reg_val'].apply(lambda x: np.log10(x))\n",
    "res.sort_values(by=['accuracy'], ascending=True).head(8)"
   ]
  },
  {
   "cell_type": "code",
   "execution_count": null,
   "metadata": {},
   "outputs": [],
   "source": [
    "res.sort_values(by=['accuracy'], ascending=True).head(8).to_csv(\"./results_coarse_mix.csv\", index=False, sep='&')"
   ]
  }
 ],
 "metadata": {
  "kernelspec": {
   "display_name": "Python 3",
   "language": "python",
   "name": "python3"
  },
  "language_info": {
   "codemirror_mode": {
    "name": "ipython",
    "version": 3
   },
   "file_extension": ".py",
   "mimetype": "text/x-python",
   "name": "python",
   "nbconvert_exporter": "python",
   "pygments_lexer": "ipython3",
   "version": "3.10.8 (main, Oct 13 2022, 09:48:40) [Clang 14.0.0 (clang-1400.0.29.102)]"
  },
  "orig_nbformat": 4,
  "vscode": {
   "interpreter": {
    "hash": "b0fa6594d8f4cbf19f97940f81e996739fb7646882a419484c72d19e05852a7e"
   }
  }
 },
 "nbformat": 4,
 "nbformat_minor": 2
}
