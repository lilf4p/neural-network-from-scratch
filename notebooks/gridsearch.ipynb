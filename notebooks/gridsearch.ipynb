{
 "cells": [
  {
   "cell_type": "code",
   "execution_count": 3,
   "metadata": {},
   "outputs": [
    {
     "data": {
      "text/plain": [
       "(1194, 2, 1)"
      ]
     },
     "execution_count": 3,
     "metadata": {},
     "output_type": "execute_result"
    }
   ],
   "source": [
    "# add the src folder to the path\n",
    "import sys\n",
    "sys.path.append('../')\n",
    "\n",
    "from src.search import grid_search_cv\n",
    "from src.utils import load_cup\n",
    "from src.validation import kfold_cv\n",
    "\n",
    "from src.network import Network\n",
    "from src.activations import ReLU, Sigmoid\n",
    "from src.losses import MeanSquaredError\n",
    "from src.metrics import MeanEuclideanError\n",
    "from src.regularizers import L1, L2\n",
    "from src.callbacks import EarlyStopping\n",
    "\n",
    "X, y, scaler = load_cup(validation=False, scale_outputs=True)\n",
    "y.shape"
   ]
  },
  {
   "cell_type": "code",
   "execution_count": 2,
   "metadata": {},
   "outputs": [
    {
     "name": "stdout",
     "output_type": "stream",
     "text": [
      "eta= 0.01 nesterov= 0.8 reg  <class 'src.regularizers.L2'> lambda = 1e-07\n",
      "eta= 0.01 nesterov= 0.9 reg  <class 'src.regularizers.L2'> lambda = 1e-07\n",
      "eta= 0.001 nesterov= 0.8 reg  <class 'src.regularizers.L2'> lambda = 1e-07\n",
      "fitting fold 0 of 3 .\n",
      "fitting fold 0 of 3 .\n"
     ]
    },
    {
     "ename": "KeyboardInterrupt",
     "evalue": "",
     "output_type": "error",
     "traceback": [
      "\u001b[0;31m---------------------------------------------------------------------------\u001b[0m",
      "\u001b[0;31mKeyboardInterrupt\u001b[0m                         Traceback (most recent call last)",
      "Cell \u001b[0;32mIn[2], line 6\u001b[0m\n\u001b[1;32m      3\u001b[0m model\u001b[39m.\u001b[39madd_layer(\u001b[39m24\u001b[39m, ReLU())\n\u001b[1;32m      4\u001b[0m model\u001b[39m.\u001b[39madd_layer(\u001b[39m2\u001b[39m, Sigmoid())\n\u001b[0;32m----> 6\u001b[0m gs_results \u001b[39m=\u001b[39m grid_search_cv(\n\u001b[1;32m      7\u001b[0m     model, \n\u001b[1;32m      8\u001b[0m     x\u001b[39m=\u001b[39;49mX, \n\u001b[1;32m      9\u001b[0m     y\u001b[39m=\u001b[39;49my, \n\u001b[1;32m     10\u001b[0m     n_folds\u001b[39m=\u001b[39;49m\u001b[39m3\u001b[39;49m,\n\u001b[1;32m     11\u001b[0m     metric\u001b[39m=\u001b[39;49mMeanEuclideanError(), \n\u001b[1;32m     12\u001b[0m     loss\u001b[39m=\u001b[39;49mMeanSquaredError(), \n\u001b[1;32m     13\u001b[0m     eta\u001b[39m=\u001b[39;49m[\u001b[39m1e-2\u001b[39;49m, \u001b[39m1e-3\u001b[39;49m],\n\u001b[1;32m     14\u001b[0m     nesterov\u001b[39m=\u001b[39;49m[\u001b[39m0.8\u001b[39;49m, \u001b[39m0.9\u001b[39;49m],\n\u001b[1;32m     15\u001b[0m     reg_type\u001b[39m=\u001b[39;49m[L2],\n\u001b[1;32m     16\u001b[0m     reg_val\u001b[39m=\u001b[39;49m[\u001b[39m1e-7\u001b[39;49m,],\n\u001b[1;32m     17\u001b[0m     epochs\u001b[39m=\u001b[39;49m\u001b[39m100\u001b[39;49m,\n\u001b[1;32m     18\u001b[0m     scaler\u001b[39m=\u001b[39;49mscaler,\n\u001b[1;32m     19\u001b[0m     workers\u001b[39m=\u001b[39;49m\u001b[39m2\u001b[39;49m,\n\u001b[1;32m     20\u001b[0m     verbose\u001b[39m=\u001b[39;49m\u001b[39mFalse\u001b[39;49;00m\n\u001b[1;32m     21\u001b[0m )\n",
      "File \u001b[0;32m~/Desktop/unipi/ML/neural-network-from-scratch/notebooks/../src/search.py:66\u001b[0m, in \u001b[0;36mgrid_search_cv\u001b[0;34m(model_shape, x, y, n_folds, metric, loss, eta, nesterov, reg_type, reg_val, epochs, verbose, scaler, workers)\u001b[0m\n\u001b[1;32m     64\u001b[0m \u001b[39mif\u001b[39;00m \u001b[39mlen\u001b[39m(jobs) \u001b[39m>\u001b[39m\u001b[39m=\u001b[39m workers:\n\u001b[1;32m     65\u001b[0m     \u001b[39mfor\u001b[39;00m proc \u001b[39min\u001b[39;00m jobs:\n\u001b[0;32m---> 66\u001b[0m         proc\u001b[39m.\u001b[39;49mjoin()\n\u001b[1;32m     67\u001b[0m     jobs \u001b[39m=\u001b[39m []\n\u001b[1;32m     69\u001b[0m \u001b[39mid\u001b[39m \u001b[39m=\u001b[39m \u001b[39m\"\u001b[39m\u001b[39mproc-\u001b[39m\u001b[39m\"\u001b[39m \u001b[39m+\u001b[39m \u001b[39mstr\u001b[39m(count)\n",
      "File \u001b[0;32m/usr/local/Cellar/python@3.11/3.11.1/Frameworks/Python.framework/Versions/3.11/lib/python3.11/multiprocessing/process.py:149\u001b[0m, in \u001b[0;36mBaseProcess.join\u001b[0;34m(self, timeout)\u001b[0m\n\u001b[1;32m    147\u001b[0m \u001b[39massert\u001b[39;00m \u001b[39mself\u001b[39m\u001b[39m.\u001b[39m_parent_pid \u001b[39m==\u001b[39m os\u001b[39m.\u001b[39mgetpid(), \u001b[39m'\u001b[39m\u001b[39mcan only join a child process\u001b[39m\u001b[39m'\u001b[39m\n\u001b[1;32m    148\u001b[0m \u001b[39massert\u001b[39;00m \u001b[39mself\u001b[39m\u001b[39m.\u001b[39m_popen \u001b[39mis\u001b[39;00m \u001b[39mnot\u001b[39;00m \u001b[39mNone\u001b[39;00m, \u001b[39m'\u001b[39m\u001b[39mcan only join a started process\u001b[39m\u001b[39m'\u001b[39m\n\u001b[0;32m--> 149\u001b[0m res \u001b[39m=\u001b[39m \u001b[39mself\u001b[39;49m\u001b[39m.\u001b[39;49m_popen\u001b[39m.\u001b[39;49mwait(timeout)\n\u001b[1;32m    150\u001b[0m \u001b[39mif\u001b[39;00m res \u001b[39mis\u001b[39;00m \u001b[39mnot\u001b[39;00m \u001b[39mNone\u001b[39;00m:\n\u001b[1;32m    151\u001b[0m     _children\u001b[39m.\u001b[39mdiscard(\u001b[39mself\u001b[39m)\n",
      "File \u001b[0;32m/usr/local/Cellar/python@3.11/3.11.1/Frameworks/Python.framework/Versions/3.11/lib/python3.11/multiprocessing/popen_fork.py:43\u001b[0m, in \u001b[0;36mPopen.wait\u001b[0;34m(self, timeout)\u001b[0m\n\u001b[1;32m     41\u001b[0m             \u001b[39mreturn\u001b[39;00m \u001b[39mNone\u001b[39;00m\n\u001b[1;32m     42\u001b[0m     \u001b[39m# This shouldn't block if wait() returned successfully.\u001b[39;00m\n\u001b[0;32m---> 43\u001b[0m     \u001b[39mreturn\u001b[39;00m \u001b[39mself\u001b[39;49m\u001b[39m.\u001b[39;49mpoll(os\u001b[39m.\u001b[39;49mWNOHANG \u001b[39mif\u001b[39;49;00m timeout \u001b[39m==\u001b[39;49m \u001b[39m0.0\u001b[39;49m \u001b[39melse\u001b[39;49;00m \u001b[39m0\u001b[39;49m)\n\u001b[1;32m     44\u001b[0m \u001b[39mreturn\u001b[39;00m \u001b[39mself\u001b[39m\u001b[39m.\u001b[39mreturncode\n",
      "File \u001b[0;32m/usr/local/Cellar/python@3.11/3.11.1/Frameworks/Python.framework/Versions/3.11/lib/python3.11/multiprocessing/popen_fork.py:27\u001b[0m, in \u001b[0;36mPopen.poll\u001b[0;34m(self, flag)\u001b[0m\n\u001b[1;32m     25\u001b[0m \u001b[39mif\u001b[39;00m \u001b[39mself\u001b[39m\u001b[39m.\u001b[39mreturncode \u001b[39mis\u001b[39;00m \u001b[39mNone\u001b[39;00m:\n\u001b[1;32m     26\u001b[0m     \u001b[39mtry\u001b[39;00m:\n\u001b[0;32m---> 27\u001b[0m         pid, sts \u001b[39m=\u001b[39m os\u001b[39m.\u001b[39;49mwaitpid(\u001b[39mself\u001b[39;49m\u001b[39m.\u001b[39;49mpid, flag)\n\u001b[1;32m     28\u001b[0m     \u001b[39mexcept\u001b[39;00m \u001b[39mOSError\u001b[39;00m:\n\u001b[1;32m     29\u001b[0m         \u001b[39m# Child process not yet created. See #1731717\u001b[39;00m\n\u001b[1;32m     30\u001b[0m         \u001b[39m# e.errno == errno.ECHILD == 10\u001b[39;00m\n\u001b[1;32m     31\u001b[0m         \u001b[39mreturn\u001b[39;00m \u001b[39mNone\u001b[39;00m\n",
      "\u001b[0;31mKeyboardInterrupt\u001b[0m: "
     ]
    }
   ],
   "source": [
    "model = Network(9)\n",
    "model.add_layer(16, ReLU())\n",
    "model.add_layer(24, ReLU())\n",
    "model.add_layer(2, Sigmoid())\n",
    "\n",
    "gs_results = grid_search_cv(\n",
    "    model, \n",
    "    x=X, \n",
    "    y=y, \n",
    "    n_folds=3,\n",
    "    metric=MeanEuclideanError(), \n",
    "    loss=MeanSquaredError(), \n",
    "    eta=[1e-2, 1e-3],\n",
    "    nesterov=[0.8, 0.9],\n",
    "    reg_type=[L2],\n",
    "    reg_val=[1e-7,],\n",
    "    epochs=100,\n",
    "    scaler=scaler,\n",
    "    workers=2,\n",
    "    verbose=False\n",
    ")"
   ]
  },
  {
   "cell_type": "code",
   "execution_count": 3,
   "metadata": {},
   "outputs": [
    {
     "data": {
      "text/plain": [
       "{'proc-0': ({'eta': 0.01,\n",
       "   'nesterov': 0.8,\n",
       "   'reg_type': src.regularizers.L2,\n",
       "   'reg_val': 1e-07},\n",
       "  {'accuracies': 3.6686374620723043,\n",
       "   'losses': 0.028088161523857468,\n",
       "   'val_losses': 12.181970384142398}),\n",
       " 'proc-1': ({'eta': 0.01,\n",
       "   'nesterov': 0.9,\n",
       "   'reg_type': src.regularizers.L2,\n",
       "   'reg_val': 1e-07},\n",
       "  {'accuracies': 5.784293188216009,\n",
       "   'losses': 0.05106807499343635,\n",
       "   'val_losses': 22.492225575445076}),\n",
       " 'proc-2': ({'eta': 0.001,\n",
       "   'nesterov': 0.8,\n",
       "   'reg_type': src.regularizers.L2,\n",
       "   'reg_val': 1e-07},\n",
       "  {'accuracies': 2.4144740919770413,\n",
       "   'losses': 0.0089379111628319,\n",
       "   'val_losses': 3.6073693034855587}),\n",
       " 'proc-3': ({'eta': 0.001,\n",
       "   'nesterov': 0.9,\n",
       "   'reg_type': src.regularizers.L2,\n",
       "   'reg_val': 1e-07},\n",
       "  {'accuracies': 1.684118553687086,\n",
       "   'losses': 0.0050725181560398415,\n",
       "   'val_losses': 2.1219669508612076})}"
      ]
     },
     "execution_count": 3,
     "metadata": {},
     "output_type": "execute_result"
    }
   ],
   "source": [
    "gs_results"
   ]
  },
  {
   "cell_type": "code",
   "execution_count": 5,
   "metadata": {},
   "outputs": [
    {
     "name": "stdout",
     "output_type": "stream",
     "text": [
      "fitting fold 0 of 4 .\n"
     ]
    },
    {
     "name": "stderr",
     "output_type": "stream",
     "text": [
      "Training:  14%|█▍        | 14/100[, loss=0.00441, val_loss=0.00584, val_acc=0.0829]\n"
     ]
    },
    {
     "name": "stdout",
     "output_type": "stream",
     "text": [
      "Early stopping\n",
      "fitting fold 1 of 4 .\n"
     ]
    },
    {
     "name": "stderr",
     "output_type": "stream",
     "text": [
      "Training:  19%|█▉        | 19/100[, loss=0.00447, val_loss=0.00544, val_acc=0.0796]\n"
     ]
    },
    {
     "name": "stdout",
     "output_type": "stream",
     "text": [
      "Early stopping\n",
      "fitting fold 2 of 4 .\n"
     ]
    },
    {
     "name": "stderr",
     "output_type": "stream",
     "text": [
      "Training:  13%|█▎        | 13/100[, loss=0.00426, val_loss=0.00488, val_acc=0.0763]\n"
     ]
    },
    {
     "name": "stdout",
     "output_type": "stream",
     "text": [
      "Early stopping\n",
      "fitting fold 3 of 4 .\n"
     ]
    },
    {
     "name": "stderr",
     "output_type": "stream",
     "text": [
      "Training:  13%|█▎        | 13/100[, loss=0.00461, val_loss=0.00478, val_acc=0.0767]"
     ]
    },
    {
     "name": "stdout",
     "output_type": "stream",
     "text": [
      "Early stopping\n"
     ]
    },
    {
     "name": "stderr",
     "output_type": "stream",
     "text": [
      "\n"
     ]
    },
    {
     "data": {
      "text/plain": [
       "{'accuracies': 1.5644491730280543,\n",
       " 'losses': 0.004555765032427121,\n",
       " 'val_losses': 1.9849717819580008}"
      ]
     },
     "execution_count": 5,
     "metadata": {},
     "output_type": "execute_result"
    }
   ],
   "source": [
    "model = Network(9)\n",
    "model.add_layer(16, ReLU())\n",
    "model.add_layer(24, ReLU())\n",
    "model.add_layer(2, Sigmoid())\n",
    "\n",
    "kfold_cv(\n",
    "    model=model,\n",
    "    x=X,\n",
    "    y=y,\n",
    "    k=4,\n",
    "    metric=MeanEuclideanError(),\n",
    "    loss=MeanSquaredError(),\n",
    "    eta=1,\n",
    "    nesterov=0,\n",
    "    epochs=100,\n",
    "    verbose=True,\n",
    "    callbacks=[EarlyStopping],\n",
    "    patience=5,\n",
    "    scaler=scaler)"
   ]
  }
 ],
 "metadata": {
  "kernelspec": {
   "display_name": "venv",
   "language": "python",
   "name": "python3"
  },
  "language_info": {
   "codemirror_mode": {
    "name": "ipython",
    "version": 3
   },
   "file_extension": ".py",
   "mimetype": "text/x-python",
   "name": "python",
   "nbconvert_exporter": "python",
   "pygments_lexer": "ipython3",
   "version": "3.11.1"
  },
  "orig_nbformat": 4,
  "vscode": {
   "interpreter": {
    "hash": "a29ded6e616d7585d61f3771ec5a363b94eb99ca2ded5b8798d9842f646a5745"
   }
  }
 },
 "nbformat": 4,
 "nbformat_minor": 2
}
