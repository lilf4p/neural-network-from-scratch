{
 "cells": [
  {
   "cell_type": "code",
   "execution_count": 6,
   "metadata": {},
   "outputs": [
    {
     "data": {
      "text/plain": [
       "(1194, 2, 1)"
      ]
     },
     "execution_count": 6,
     "metadata": {},
     "output_type": "execute_result"
    }
   ],
   "source": [
    "# add the src folder to the path\n",
    "import sys\n",
    "import pandas as pd\n",
    "sys.path.append('../')\n",
    "\n",
    "from src.search import grid_search_cv\n",
    "from src.utils import load_cup, parse_results\n",
    "from src.validation import kfold_cv\n",
    "\n",
    "from src.network import Network\n",
    "from src.activations import ReLU, Sigmoid\n",
    "from src.losses import MeanSquaredError\n",
    "from src.metrics import MeanEuclideanError\n",
    "from src.regularizers import L1, L2\n",
    "from src.callbacks import EarlyStopping\n",
    "\n",
    "X, y, scaler = load_cup(validation=False, scale_outputs=True)\n",
    "y.shape"
   ]
  },
  {
   "attachments": {},
   "cell_type": "markdown",
   "metadata": {},
   "source": [
    "# Trying first a coarse grid search for model selected in preliminary.ipynb"
   ]
  },
  {
   "cell_type": "code",
   "execution_count": null,
   "metadata": {},
   "outputs": [],
   "source": [
    "#Coarse grained grid search 24-16\n",
    "model = Network(9)\n",
    "model.add_layer(24, ReLU())\n",
    "model.add_layer(16, ReLU())\n",
    "model.add_layer(2, Sigmoid())\n",
    "\n",
    "gs_results = grid_search_cv(\n",
    "    model, \n",
    "    x=X, \n",
    "    y=y, \n",
    "    n_folds=3,\n",
    "    metric=MeanEuclideanError(), \n",
    "    loss=MeanSquaredError(), \n",
    "    eta=[1e-2, 1e-3, 1e-1],\n",
    "    nesterov=[0.8, 0.7, 0.5, 0.6],\n",
    "    reg_type=[L2, L1],\n",
    "    reg_val=[1e-7, 1e-8, 1e-6, 1e-5],\n",
    "    epochs=1000,\n",
    "    scaler=scaler,\n",
    "    workers=8,\n",
    "    verbose=False\n",
    ")"
   ]
  },
  {
   "cell_type": "code",
   "execution_count": null,
   "metadata": {},
   "outputs": [],
   "source": [
    "# save results\n",
    "results_df = parse_results(gs_results)\n",
    "results_df.to_csv('../result_gs/2416_coarse.csv')"
   ]
  },
  {
   "cell_type": "code",
   "execution_count": null,
   "metadata": {},
   "outputs": [],
   "source": [
    "# coarse grained 32-16\n",
    "#Coarse grained grid search\n",
    "model = Network(9)\n",
    "model.add_layer(32, ReLU())\n",
    "model.add_layer(16, ReLU())\n",
    "model.add_layer(2, Sigmoid())\n",
    "\n",
    "gs_results = grid_search_cv(\n",
    "    model, \n",
    "    x=X, \n",
    "    y=y, \n",
    "    n_folds=3,\n",
    "    metric=MeanEuclideanError(), \n",
    "    loss=MeanSquaredError(), \n",
    "    eta=[1e-2, 1e-3, 1e-1],\n",
    "    nesterov=[0.8, 0.7, 0.5, 0.6],\n",
    "    reg_type=[L2, L1],\n",
    "    reg_val=[1e-7, 1e-8, 1e-6, 1e-5],\n",
    "    epochs=1000,\n",
    "    scaler=scaler,\n",
    "    workers=8,\n",
    "    verbose=False\n",
    ")"
   ]
  },
  {
   "cell_type": "code",
   "execution_count": null,
   "metadata": {},
   "outputs": [],
   "source": [
    "results_df = parse_results(gs_results)\n",
    "results_df.to_csv('../result_gs/3216_coarse.csv')"
   ]
  },
  {
   "attachments": {},
   "cell_type": "markdown",
   "metadata": {},
   "source": [
    "## Analyzing coarse results."
   ]
  },
  {
   "cell_type": "code",
   "execution_count": null,
   "metadata": {},
   "outputs": [],
   "source": [
    "res2416 = pd.read_csv(\"../result_gs/2416_coarse.csv\", index_col=0)\n",
    "res3216 = pd.read_csv(\"../result_gs/3216_coarse.csv\", index_col=0)\n",
    "\n",
    "# putting architecture column to interpret results.\n",
    "res3216['arch'] = ['3216' for _ in range(len(res3216))]\n",
    "res2416['arch'] = ['2416' for _ in range(len(res2416))]\n",
    "\n"
   ]
  },
  {
   "cell_type": "code",
   "execution_count": null,
   "metadata": {},
   "outputs": [],
   "source": [
    "# print results for 24-16 architecture, sorted by mean euclidean error.\n",
    "res2416.sort_values(by=['val_mee'], ascending=True).head(10)"
   ]
  },
  {
   "cell_type": "code",
   "execution_count": null,
   "metadata": {},
   "outputs": [],
   "source": [
    "# print results for 32-16 arch, sorted by best validation mee\n",
    "res3216.sort_values(by=['val_mee'], ascending=True).head(10)"
   ]
  },
  {
   "cell_type": "code",
   "execution_count": null,
   "metadata": {},
   "outputs": [],
   "source": [
    "# merge results and express regularizer strength in log scale to better reading\n",
    "import numpy as np\n",
    "\n",
    "res = pd.concat([res2416, res3216])\n",
    "res['reg_val'] = res['reg_val'].apply(lambda x: np.log10(x))\n",
    "\n",
    "#print best 10 models overall.\n",
    "res.sort_values(by=['val_mee'], ascending=True).head(10)"
   ]
  },
  {
   "cell_type": "code",
   "execution_count": null,
   "metadata": {},
   "outputs": [],
   "source": [
    "# saving to csv\n",
    "res.to_csv('../result_gs/merged_coarse.csv')"
   ]
  },
  {
   "attachments": {},
   "cell_type": "markdown",
   "metadata": {},
   "source": [
    "## Now, try with fine grid search for both models."
   ]
  },
  {
   "cell_type": "code",
   "execution_count": null,
   "metadata": {},
   "outputs": [],
   "source": [
    "#Fine grained grid search 24-16\n",
    "model = Network(9)\n",
    "model.add_layer(24, ReLU())\n",
    "model.add_layer(16, ReLU())\n",
    "model.add_layer(2, Sigmoid(), initializer='xavier')\n",
    "\n",
    "gs_results = grid_search_cv(\n",
    "    model, \n",
    "    x=X, \n",
    "    y=y, \n",
    "    n_folds=3,\n",
    "    metric=MeanEuclideanError(), \n",
    "    loss=MeanSquaredError(), \n",
    "    eta=[0.8e-2, 1e-2, 1.2e-2, 1.4e-2],\n",
    "    nesterov=[0.5, 0.52, 0.54, 0.56, 0.58, 0.6],\n",
    "    reg_type=[L1,L2],\n",
    "    reg_val=[1e-7, 10**(-6.8), 10**(-6.6), 10**(-6.4), 10**(-6.2), 1e-6],\n",
    "    epochs=1000,\n",
    "    scaler=scaler,\n",
    "    workers=8,\n",
    "    verbose=False\n",
    ")"
   ]
  },
  {
   "cell_type": "code",
   "execution_count": null,
   "metadata": {},
   "outputs": [],
   "source": [
    "results_df = parse_results(gs_results)\n",
    "results_df.to_csv('../result_gs/2416_fine.csv')"
   ]
  },
  {
   "cell_type": "code",
   "execution_count": 8,
   "metadata": {},
   "outputs": [
    {
     "data": {
      "text/html": [
       "<div>\n",
       "<style scoped>\n",
       "    .dataframe tbody tr th:only-of-type {\n",
       "        vertical-align: middle;\n",
       "    }\n",
       "\n",
       "    .dataframe tbody tr th {\n",
       "        vertical-align: top;\n",
       "    }\n",
       "\n",
       "    .dataframe thead th {\n",
       "        text-align: right;\n",
       "    }\n",
       "</style>\n",
       "<table border=\"1\" class=\"dataframe\">\n",
       "  <thead>\n",
       "    <tr style=\"text-align: right;\">\n",
       "      <th></th>\n",
       "      <th>Unnamed: 0</th>\n",
       "      <th>eta</th>\n",
       "      <th>nesterov</th>\n",
       "      <th>reg_type</th>\n",
       "      <th>reg_val</th>\n",
       "      <th>tr_mee</th>\n",
       "      <th>val_mee</th>\n",
       "      <th>loss</th>\n",
       "      <th>val_loss</th>\n",
       "    </tr>\n",
       "  </thead>\n",
       "  <tbody>\n",
       "    <tr>\n",
       "      <th>128</th>\n",
       "      <td>128</td>\n",
       "      <td>0.010</td>\n",
       "      <td>0.58</td>\n",
       "      <td>L2</td>\n",
       "      <td>2.511886e-07</td>\n",
       "      <td>1.301139</td>\n",
       "      <td>1.498053</td>\n",
       "      <td>1.379257</td>\n",
       "      <td>1.853623</td>\n",
       "    </tr>\n",
       "    <tr>\n",
       "      <th>222</th>\n",
       "      <td>222</td>\n",
       "      <td>0.014</td>\n",
       "      <td>0.50</td>\n",
       "      <td>L2</td>\n",
       "      <td>1.000000e-07</td>\n",
       "      <td>1.299053</td>\n",
       "      <td>1.503843</td>\n",
       "      <td>1.378399</td>\n",
       "      <td>1.858226</td>\n",
       "    </tr>\n",
       "    <tr>\n",
       "      <th>145</th>\n",
       "      <td>145</td>\n",
       "      <td>0.012</td>\n",
       "      <td>0.50</td>\n",
       "      <td>L1</td>\n",
       "      <td>1.584893e-07</td>\n",
       "      <td>1.373286</td>\n",
       "      <td>1.513375</td>\n",
       "      <td>1.570382</td>\n",
       "      <td>1.899246</td>\n",
       "    </tr>\n",
       "    <tr>\n",
       "      <th>107</th>\n",
       "      <td>107</td>\n",
       "      <td>0.010</td>\n",
       "      <td>0.54</td>\n",
       "      <td>L2</td>\n",
       "      <td>1.000000e-06</td>\n",
       "      <td>1.372048</td>\n",
       "      <td>1.514176</td>\n",
       "      <td>1.539621</td>\n",
       "      <td>1.909278</td>\n",
       "    </tr>\n",
       "    <tr>\n",
       "      <th>25</th>\n",
       "      <td>25</td>\n",
       "      <td>0.008</td>\n",
       "      <td>0.54</td>\n",
       "      <td>L1</td>\n",
       "      <td>1.584893e-07</td>\n",
       "      <td>1.398222</td>\n",
       "      <td>1.514346</td>\n",
       "      <td>1.618376</td>\n",
       "      <td>1.925330</td>\n",
       "    </tr>\n",
       "    <tr>\n",
       "      <th>251</th>\n",
       "      <td>251</td>\n",
       "      <td>0.014</td>\n",
       "      <td>0.54</td>\n",
       "      <td>L2</td>\n",
       "      <td>1.000000e-06</td>\n",
       "      <td>1.354133</td>\n",
       "      <td>1.514635</td>\n",
       "      <td>1.512146</td>\n",
       "      <td>1.887630</td>\n",
       "    </tr>\n",
       "    <tr>\n",
       "      <th>215</th>\n",
       "      <td>215</td>\n",
       "      <td>0.012</td>\n",
       "      <td>0.60</td>\n",
       "      <td>L2</td>\n",
       "      <td>1.000000e-06</td>\n",
       "      <td>1.360103</td>\n",
       "      <td>1.516494</td>\n",
       "      <td>1.525632</td>\n",
       "      <td>1.918317</td>\n",
       "    </tr>\n",
       "    <tr>\n",
       "      <th>165</th>\n",
       "      <td>165</td>\n",
       "      <td>0.012</td>\n",
       "      <td>0.52</td>\n",
       "      <td>L2</td>\n",
       "      <td>3.981072e-07</td>\n",
       "      <td>1.348887</td>\n",
       "      <td>1.518237</td>\n",
       "      <td>1.503060</td>\n",
       "      <td>1.894714</td>\n",
       "    </tr>\n",
       "    <tr>\n",
       "      <th>132</th>\n",
       "      <td>132</td>\n",
       "      <td>0.010</td>\n",
       "      <td>0.60</td>\n",
       "      <td>L1</td>\n",
       "      <td>1.000000e-07</td>\n",
       "      <td>1.393688</td>\n",
       "      <td>1.518390</td>\n",
       "      <td>1.597435</td>\n",
       "      <td>1.936572</td>\n",
       "    </tr>\n",
       "    <tr>\n",
       "      <th>177</th>\n",
       "      <td>177</td>\n",
       "      <td>0.012</td>\n",
       "      <td>0.54</td>\n",
       "      <td>L2</td>\n",
       "      <td>3.981072e-07</td>\n",
       "      <td>1.352925</td>\n",
       "      <td>1.518642</td>\n",
       "      <td>1.515752</td>\n",
       "      <td>1.920026</td>\n",
       "    </tr>\n",
       "  </tbody>\n",
       "</table>\n",
       "</div>"
      ],
      "text/plain": [
       "     Unnamed: 0    eta  nesterov reg_type       reg_val    tr_mee   val_mee  \\\n",
       "128         128  0.010      0.58       L2  2.511886e-07  1.301139  1.498053   \n",
       "222         222  0.014      0.50       L2  1.000000e-07  1.299053  1.503843   \n",
       "145         145  0.012      0.50       L1  1.584893e-07  1.373286  1.513375   \n",
       "107         107  0.010      0.54       L2  1.000000e-06  1.372048  1.514176   \n",
       "25           25  0.008      0.54       L1  1.584893e-07  1.398222  1.514346   \n",
       "251         251  0.014      0.54       L2  1.000000e-06  1.354133  1.514635   \n",
       "215         215  0.012      0.60       L2  1.000000e-06  1.360103  1.516494   \n",
       "165         165  0.012      0.52       L2  3.981072e-07  1.348887  1.518237   \n",
       "132         132  0.010      0.60       L1  1.000000e-07  1.393688  1.518390   \n",
       "177         177  0.012      0.54       L2  3.981072e-07  1.352925  1.518642   \n",
       "\n",
       "         loss  val_loss  \n",
       "128  1.379257  1.853623  \n",
       "222  1.378399  1.858226  \n",
       "145  1.570382  1.899246  \n",
       "107  1.539621  1.909278  \n",
       "25   1.618376  1.925330  \n",
       "251  1.512146  1.887630  \n",
       "215  1.525632  1.918317  \n",
       "165  1.503060  1.894714  \n",
       "132  1.597435  1.936572  \n",
       "177  1.515752  1.920026  "
      ]
     },
     "execution_count": 8,
     "metadata": {},
     "output_type": "execute_result"
    }
   ],
   "source": [
    "results_2416 = pd.read_csv('../result_gs/2416_fine.csv')\n",
    "results_2416.sort_values(by='val_mee', ascending=True).head(10)"
   ]
  },
  {
   "cell_type": "code",
   "execution_count": 2,
   "metadata": {},
   "outputs": [
    {
     "name": "stdout",
     "output_type": "stream",
     "text": [
      "Gridsearch: exploring 288 combinations.\n"
     ]
    },
    {
     "name": "stderr",
     "output_type": "stream",
     "text": [
      "100%|██████████| 288/288 [1:31:28<00:00, 19.06s/it]\n"
     ]
    }
   ],
   "source": [
    "#Fine grained grid search 32-16\n",
    "model = Network(9)\n",
    "model.add_layer(32, ReLU())\n",
    "model.add_layer(16, ReLU())\n",
    "model.add_layer(2, Sigmoid(), initializer='xavier')\n",
    "\n",
    "gs_results = grid_search_cv(\n",
    "    model, \n",
    "    x=X, \n",
    "    y=y, \n",
    "    n_folds=3,\n",
    "    metric=MeanEuclideanError(), \n",
    "    loss=MeanSquaredError(), \n",
    "    eta=[0.8e-2, 1e-2, 1.2e-2, 1.4e-2],\n",
    "    nesterov=[0.6, 0.62, 0.64, 0.66, 0.68, 0.7],\n",
    "    reg_type=[L1,L2],\n",
    "    reg_val=[1e-8, 10**(-7.8), 10**(-7.6), 10**(-7.4), 10**(-7.2), 1e-7],\n",
    "    epochs=1000,\n",
    "    scaler=scaler,\n",
    "    workers=6,\n",
    "    verbose=False\n",
    ")"
   ]
  },
  {
   "cell_type": "code",
   "execution_count": 3,
   "metadata": {},
   "outputs": [],
   "source": [
    "results_df = parse_results(gs_results)\n",
    "results_df.to_csv('../result_gs/3216_fine.csv')"
   ]
  },
  {
   "cell_type": "code",
   "execution_count": null,
   "metadata": {},
   "outputs": [],
   "source": [
    "results_3216 = pd.read_csv('../result_gs/3216_fine.csv')\n",
    "results_3216.sort_values(by='val_mee', ascending=True).head(10)"
   ]
  },
  {
   "cell_type": "code",
   "execution_count": null,
   "metadata": {},
   "outputs": [],
   "source": [
    "results_df = parse_results(gs_results)\n",
    "results_df.sort_values(by='val_mee', ascending=True)"
   ]
  },
  {
   "attachments": {},
   "cell_type": "markdown",
   "metadata": {},
   "source": [
    "### analyze fine gs results"
   ]
  },
  {
   "cell_type": "code",
   "execution_count": null,
   "metadata": {},
   "outputs": [],
   "source": [
    "fine3216 = pd.read_csv(\"../result_gs/3216_fine.csv\", index_col=0)\n",
    "fine3216.sort_values(by=['val_mee'], ascending=True).head(10)\n",
    "\n",
    "fine3216['arch'] = ['3216' for _ in range(len(fine3216))]\n",
    "fine3216['reg_val'] = fine3216['reg_val'].apply(lambda x: np.log10(x))\n",
    "fine3216 = fine3216.round(4)\n",
    "fine3216.sort_values(by=['val_mee'], ascending=True, inplace=True)\n",
    "fine3216.head(8)"
   ]
  },
  {
   "cell_type": "code",
   "execution_count": null,
   "metadata": {},
   "outputs": [],
   "source": [
    "fine2416 = pd.read_csv(\"../result_gs/2416_fine.csv\", index_col=0)\n",
    "fine2416.sort_values(by=['val_mee'], ascending=True).head(10)\n",
    "\n",
    "fine2416['arch'] = ['2416' for _ in range(len(fine2416))]\n",
    "fine2416['reg_val'] = fine2416['reg_val'].apply(lambda x: np.log10(x))\n",
    "fine2416 = fine2416.round(4)\n",
    "fine2416.sort_values(by=['val_mee'], ascending=True, inplace=True)\n",
    "fine2416.head(8)"
   ]
  },
  {
   "cell_type": "code",
   "execution_count": null,
   "metadata": {},
   "outputs": [],
   "source": [
    "# merge again and saver to csv\n",
    "fine = pd.concat([fine2416, fine3216])\n",
    "fine.to_csv('../result_gs/merged_fine.csv')\n",
    "\n",
    "# show results (top 4)\n",
    "fine.sort_values(by=['val_mee'], ascending=True).head(4)"
   ]
  },
  {
   "attachments": {},
   "cell_type": "markdown",
   "metadata": {},
   "source": [
    "# Final Model Selection\n",
    "\n",
    "- 32-16 ReLU activated, Sigmoid output with Xavier initialization\n",
    "- regularizer L2, with $\\log_{10}(\\lambda) = -7.6 $ \n",
    "- learning rate  = 0.014\n",
    "- nesterov momentum $\\alpha =0.6$"
   ]
  },
  {
   "attachments": {},
   "cell_type": "markdown",
   "metadata": {},
   "source": [
    "### Assessing corret number of tr epochs wih 10 fold CV"
   ]
  },
  {
   "cell_type": "code",
   "execution_count": null,
   "metadata": {},
   "outputs": [],
   "source": [
    "# perform 5-fold cross validation with best parameters to assess correct number of epochs\n",
    "X, y, scaler = load_cup(scale_outputs=True, validation=False)\n",
    "\n",
    "from src.validation import kfold_cv\n",
    "\n",
    "reg = 6.31e-8\n",
    "model = Network(9, L2(reg))\n",
    "model.add_layer(32, ReLU(), initializer='xavier')\n",
    "model.add_layer(16, ReLU(), initializer='xavier')\n",
    "model.add_layer(2, Sigmoid(), initializer='xavier')\n",
    "\n",
    "try:\n",
    "    res = kfold_cv(\n",
    "        model,\n",
    "        X,\n",
    "        y,\n",
    "        k=10,\n",
    "        metric=MeanEuclideanError(),\n",
    "        loss=MeanSquaredError(),\n",
    "        nesterov=0.6,\n",
    "        epochs=1000,\n",
    "        eta=0.014,\n",
    "        verbose=True,\n",
    "        callbacks=[EarlyStopping(50)],\n",
    "        scaler=scaler\n",
    "    )\n",
    "except KeyboardInterrupt:\n",
    "    model.bar.close()"
   ]
  },
  {
   "attachments": {},
   "cell_type": "markdown",
   "metadata": {},
   "source": [
    "### 170 epochs needed. Now re-train model on all dev. set"
   ]
  },
  {
   "cell_type": "code",
   "execution_count": null,
   "metadata": {},
   "outputs": [],
   "source": [
    "reg = 6.31e-8 \n",
    "model = Network(9, L2(reg))\n",
    "model.add_layer(32, ReLU())\n",
    "model.add_layer(16, ReLU())\n",
    "model.add_layer(2, Sigmoid(), initializer='xavier')\n",
    "\n",
    "stats = model.train(\n",
    "    eta=0.014, \n",
    "    nesterov=0.6, \n",
    "    train=(X, y),\n",
    "    validation=(X, y), # putting tr as validation, just to print the MEE. \n",
    "    metric=MeanEuclideanError(), \n",
    "    loss=MeanSquaredError(),\n",
    "    epochs=170,\n",
    ")"
   ]
  },
  {
   "attachments": {},
   "cell_type": "markdown",
   "metadata": {},
   "source": [
    "### Finally assess performance on test set"
   ]
  },
  {
   "cell_type": "code",
   "execution_count": null,
   "metadata": {},
   "outputs": [],
   "source": [
    "from src.utils import load_cup_test\n",
    "X_test, y_test = load_cup_test(scaler=scaler)\n",
    "\n",
    "y_pred = model.multiple_outputs(X_test)\n",
    "\n",
    "y_pred_new = scaler.inverse_transform(y_pred.reshape((y_pred.shape[0], y_pred.shape[1]))).reshape(y_pred.shape)\n",
    "y_test_new = scaler.inverse_transform(y_test.reshape((y_test.shape[0], y_test.shape[1]))).reshape(y_test.shape)\n",
    "\n",
    "metric = MeanEuclideanError()\n",
    "print(\"MEE (real scale):\", metric(y_pred_new, y_test_new))"
   ]
  }
 ],
 "metadata": {
  "kernelspec": {
   "display_name": "venv",
   "language": "python",
   "name": "python3"
  },
  "language_info": {
   "codemirror_mode": {
    "name": "ipython",
    "version": 3
   },
   "file_extension": ".py",
   "mimetype": "text/x-python",
   "name": "python",
   "nbconvert_exporter": "python",
   "pygments_lexer": "ipython3",
   "version": "3.11.1 (main, Dec 23 2022, 09:39:26) [Clang 14.0.0 (clang-1400.0.29.202)]"
  },
  "orig_nbformat": 4,
  "vscode": {
   "interpreter": {
    "hash": "a29ded6e616d7585d61f3771ec5a363b94eb99ca2ded5b8798d9842f646a5745"
   }
  }
 },
 "nbformat": 4,
 "nbformat_minor": 2
}
