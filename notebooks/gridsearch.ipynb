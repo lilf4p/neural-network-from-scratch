{
 "cells": [
  {
   "cell_type": "code",
   "execution_count": 2,
   "metadata": {},
   "outputs": [
    {
     "data": {
      "text/plain": [
       "(1194, 2, 1)"
      ]
     },
     "execution_count": 2,
     "metadata": {},
     "output_type": "execute_result"
    }
   ],
   "source": [
    "import numpy as np\n",
    "import pandas as pd\n",
    "import matplotlib.pyplot as plt\n",
    "import seaborn as sns\n",
    "\n",
    "# add the src folder to the path\n",
    "import sys\n",
    "sys.path.append('../')\n",
    "\n",
    "from src.search import grid_search_cv\n",
    "from src.utils import load_cup\n",
    "from src.network import Network\n",
    "from src.activations import ReLU, Sigmoid\n",
    "from src.losses import MeanSquaredError\n",
    "from src.metrics import MeanEuclideanError\n",
    "from src.callbacks import EarlyStopping\n",
    "from src.regularizers import L1, L2\n",
    "from src.validation import kfold_cv\n",
    "\n",
    "X, y, scaler = load_cup(validation=False, scale_outputs=True)\n",
    "y.shape"
   ]
  },
  {
   "cell_type": "code",
   "execution_count": 3,
   "metadata": {},
   "outputs": [
    {
     "name": "stdout",
     "output_type": "stream",
     "text": [
      "fitting fold 0 of 3 \n"
     ]
    },
    {
     "name": "stderr",
     "output_type": "stream",
     "text": [
      "Training: 100%|██████████| 20/20[, loss=0.00498, val_loss=0.00551, val_acc=0.083] "
     ]
    },
    {
     "name": "stdout",
     "output_type": "stream",
     "text": [
      "fitting fold 1 of 3 \n"
     ]
    },
    {
     "name": "stderr",
     "output_type": "stream",
     "text": [
      "Training: 100%|██████████| 20/20[, loss=0.00498, val_loss=0.00551, val_acc=0.083]\n"
     ]
    },
    {
     "name": "stdout",
     "output_type": "stream",
     "text": [
      "fitting fold 2 of 3 \n"
     ]
    },
    {
     "name": "stderr",
     "output_type": "stream",
     "text": [
      "Training: 100%|██████████| 20/20[, loss=0.00487, val_loss=0.00589, val_acc=0.0854]\n",
      "Training: 100%|██████████| 20/20[, loss=0.006, val_loss=0.00544, val_acc=0.0854]  "
     ]
    },
    {
     "data": {
      "text/plain": [
       "{'accuracies': 1.7137872449276186,\n",
       " 'losses': 0.005282061053312564,\n",
       " 'val_losses': 2.2087434466722473}"
      ]
     },
     "execution_count": 3,
     "metadata": {},
     "output_type": "execute_result"
    }
   ],
   "source": [
    "model = Network(9)\n",
    "model.add_layer(16, ReLU())\n",
    "model.add_layer(24, ReLU())\n",
    "model.add_layer(2, Sigmoid())\n",
    "\n",
    "kfold_cv(\n",
    "    model=model,\n",
    "    k=3,\n",
    "    x=X,\n",
    "    y=y,\n",
    "    loss=MeanSquaredError(),\n",
    "    metric=MeanEuclideanError(),\n",
    "    epochs=20,\n",
    "    eta=10e-3,\n",
    "    nesterov=0.8,\n",
    "    scaler=scaler,\n",
    "    verbose=True\n",
    ")"
   ]
  }
 ],
 "metadata": {
  "kernelspec": {
   "display_name": "venv",
   "language": "python",
   "name": "python3"
  },
  "language_info": {
   "codemirror_mode": {
    "name": "ipython",
    "version": 3
   },
   "file_extension": ".py",
   "mimetype": "text/x-python",
   "name": "python",
   "nbconvert_exporter": "python",
   "pygments_lexer": "ipython3",
   "version": "3.11.1"
  },
  "orig_nbformat": 4,
  "vscode": {
   "interpreter": {
    "hash": "a29ded6e616d7585d61f3771ec5a363b94eb99ca2ded5b8798d9842f646a5745"
   }
  }
 },
 "nbformat": 4,
 "nbformat_minor": 2
}
