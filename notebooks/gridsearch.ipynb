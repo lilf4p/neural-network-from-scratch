{
 "cells": [
  {
   "cell_type": "code",
   "execution_count": 1,
   "metadata": {},
   "outputs": [
    {
     "data": {
      "text/plain": [
       "(1194, 2, 1)"
      ]
     },
     "execution_count": 1,
     "metadata": {},
     "output_type": "execute_result"
    }
   ],
   "source": [
    "# add the src folder to the path\n",
    "import sys\n",
    "sys.path.append('../')\n",
    "\n",
    "from src.search import grid_search_cv\n",
    "from src.utils import load_cup, parse_results\n",
    "from src.validation import kfold_cv\n",
    "\n",
    "from src.network import Network\n",
    "from src.activations import ReLU, Sigmoid\n",
    "from src.losses import MeanSquaredError\n",
    "from src.metrics import MeanEuclideanError\n",
    "from src.regularizers import L1, L2\n",
    "from src.callbacks import EarlyStopping\n",
    "\n",
    "X, y, scaler = load_cup(validation=False, scale_outputs=True)\n",
    "y.shape"
   ]
  },
  {
   "cell_type": "code",
   "execution_count": null,
   "metadata": {},
   "outputs": [],
   "source": [
    "#Coarse grained grid search 24-16\n",
    "model = Network(9)\n",
    "model.add_layer(24, ReLU())\n",
    "model.add_layer(16, ReLU())\n",
    "model.add_layer(2, Sigmoid())\n",
    "\n",
    "gs_results = grid_search_cv(\n",
    "    model, \n",
    "    x=X, \n",
    "    y=y, \n",
    "    n_folds=3,\n",
    "    metric=MeanEuclideanError(), \n",
    "    loss=MeanSquaredError(), \n",
    "    eta=[1e-2, 1e-3],\n",
    "    nesterov=[0.8, 0.7, 0.5, 0.6],\n",
    "    reg_type=[L2, L1],\n",
    "    reg_val=[1e-7, 1e-8, 1e-6],\n",
    "    epochs=1000,\n",
    "    scaler=scaler,\n",
    "    workers=8,\n",
    "    verbose=False\n",
    ")"
   ]
  },
  {
   "cell_type": "code",
   "execution_count": null,
   "metadata": {},
   "outputs": [],
   "source": [
    "results_df = parse_results(gs_results)\n",
    "results_df.to_csv('../result_gs/2416_coarse.csv')"
   ]
  },
  {
   "cell_type": "code",
   "execution_count": null,
   "metadata": {},
   "outputs": [],
   "source": [
    "# coarse grained 32-16\n",
    "#Coarse grained grid search\n",
    "model = Network(9)\n",
    "model.add_layer(32, ReLU())\n",
    "model.add_layer(16, ReLU())\n",
    "model.add_layer(2, Sigmoid())\n",
    "\n",
    "gs_results = grid_search_cv(\n",
    "    model, \n",
    "    x=X, \n",
    "    y=y, \n",
    "    n_folds=3,\n",
    "    metric=MeanEuclideanError(), \n",
    "    loss=MeanSquaredError(), \n",
    "    eta=[1e-2, 1e-3],\n",
    "    nesterov=[0.8, 0.7, 0.5, 0.6],\n",
    "    reg_type=[L2, L1],\n",
    "    reg_val=[1e-7, 1e-8, 1e-6],\n",
    "    epochs=1000,\n",
    "    scaler=scaler,\n",
    "    workers=8,\n",
    "    verbose=False\n",
    ")"
   ]
  },
  {
   "cell_type": "code",
   "execution_count": null,
   "metadata": {},
   "outputs": [],
   "source": [
    "results_df = parse_results(gs_results)\n",
    "results_df.to_csv('../result_gs/3216_coarse.csv')"
   ]
  },
  {
   "cell_type": "code",
   "execution_count": 2,
   "metadata": {},
   "outputs": [
    {
     "name": "stdout",
     "output_type": "stream",
     "text": [
      "Gridsearch: exploring 288 combinations.\n"
     ]
    },
    {
     "name": "stderr",
     "output_type": "stream",
     "text": [
      "100%|██████████| 288/288 [1:45:18<00:00, 21.94s/it]\n"
     ]
    }
   ],
   "source": [
    "#Fine grained grid search 24-16\n",
    "model = Network(9)\n",
    "model.add_layer(24, ReLU())\n",
    "model.add_layer(16, ReLU())\n",
    "model.add_layer(2, Sigmoid(), initializer='xavier')\n",
    "\n",
    "gs_results = grid_search_cv(\n",
    "    model, \n",
    "    x=X, \n",
    "    y=y, \n",
    "    n_folds=3,\n",
    "    metric=MeanEuclideanError(), \n",
    "    loss=MeanSquaredError(), \n",
    "    eta=[0.8e-2, 1e-2, 1.2e-2, 1.4e-2],\n",
    "    nesterov=[0.5, 0.52, 0.54, 0.56, 0.58, 0.6],\n",
    "    reg_type=[L1,L2],\n",
    "    reg_val=[1e-7, 10**(-6.8), 10**(-6.6), 10**(-6.4), 10**(-6.2), 1e-6],\n",
    "    epochs=1000,\n",
    "    scaler=scaler,\n",
    "    workers=8,\n",
    "    verbose=False\n",
    ")"
   ]
  },
  {
   "cell_type": "code",
   "execution_count": 3,
   "metadata": {},
   "outputs": [],
   "source": [
    "results_df = parse_results(gs_results)\n",
    "results_df.to_csv('../result_gs/2416_fine.csv')\n"
   ]
  },
  {
   "cell_type": "code",
   "execution_count": 5,
   "metadata": {},
   "outputs": [
    {
     "data": {
      "text/html": [
       "<div>\n",
       "<style scoped>\n",
       "    .dataframe tbody tr th:only-of-type {\n",
       "        vertical-align: middle;\n",
       "    }\n",
       "\n",
       "    .dataframe tbody tr th {\n",
       "        vertical-align: top;\n",
       "    }\n",
       "\n",
       "    .dataframe thead th {\n",
       "        text-align: right;\n",
       "    }\n",
       "</style>\n",
       "<table border=\"1\" class=\"dataframe\">\n",
       "  <thead>\n",
       "    <tr style=\"text-align: right;\">\n",
       "      <th></th>\n",
       "      <th>eta</th>\n",
       "      <th>nesterov</th>\n",
       "      <th>reg_type</th>\n",
       "      <th>reg_val</th>\n",
       "      <th>tr_mee</th>\n",
       "      <th>val_mee</th>\n",
       "      <th>loss</th>\n",
       "      <th>val_loss</th>\n",
       "    </tr>\n",
       "  </thead>\n",
       "  <tbody>\n",
       "    <tr>\n",
       "      <th>128</th>\n",
       "      <td>0.010</td>\n",
       "      <td>0.58</td>\n",
       "      <td>L2</td>\n",
       "      <td>2.511886e-07</td>\n",
       "      <td>1.301139</td>\n",
       "      <td>1.498053</td>\n",
       "      <td>1.379257</td>\n",
       "      <td>1.853623</td>\n",
       "    </tr>\n",
       "    <tr>\n",
       "      <th>222</th>\n",
       "      <td>0.014</td>\n",
       "      <td>0.50</td>\n",
       "      <td>L2</td>\n",
       "      <td>1.000000e-07</td>\n",
       "      <td>1.299053</td>\n",
       "      <td>1.503843</td>\n",
       "      <td>1.378399</td>\n",
       "      <td>1.858226</td>\n",
       "    </tr>\n",
       "    <tr>\n",
       "      <th>145</th>\n",
       "      <td>0.012</td>\n",
       "      <td>0.50</td>\n",
       "      <td>L1</td>\n",
       "      <td>1.584893e-07</td>\n",
       "      <td>1.373286</td>\n",
       "      <td>1.513375</td>\n",
       "      <td>1.570382</td>\n",
       "      <td>1.899246</td>\n",
       "    </tr>\n",
       "    <tr>\n",
       "      <th>107</th>\n",
       "      <td>0.010</td>\n",
       "      <td>0.54</td>\n",
       "      <td>L2</td>\n",
       "      <td>1.000000e-06</td>\n",
       "      <td>1.372048</td>\n",
       "      <td>1.514176</td>\n",
       "      <td>1.539621</td>\n",
       "      <td>1.909278</td>\n",
       "    </tr>\n",
       "    <tr>\n",
       "      <th>25</th>\n",
       "      <td>0.008</td>\n",
       "      <td>0.54</td>\n",
       "      <td>L1</td>\n",
       "      <td>1.584893e-07</td>\n",
       "      <td>1.398222</td>\n",
       "      <td>1.514346</td>\n",
       "      <td>1.618376</td>\n",
       "      <td>1.925330</td>\n",
       "    </tr>\n",
       "    <tr>\n",
       "      <th>251</th>\n",
       "      <td>0.014</td>\n",
       "      <td>0.54</td>\n",
       "      <td>L2</td>\n",
       "      <td>1.000000e-06</td>\n",
       "      <td>1.354133</td>\n",
       "      <td>1.514635</td>\n",
       "      <td>1.512146</td>\n",
       "      <td>1.887630</td>\n",
       "    </tr>\n",
       "    <tr>\n",
       "      <th>215</th>\n",
       "      <td>0.012</td>\n",
       "      <td>0.60</td>\n",
       "      <td>L2</td>\n",
       "      <td>1.000000e-06</td>\n",
       "      <td>1.360103</td>\n",
       "      <td>1.516494</td>\n",
       "      <td>1.525632</td>\n",
       "      <td>1.918317</td>\n",
       "    </tr>\n",
       "    <tr>\n",
       "      <th>165</th>\n",
       "      <td>0.012</td>\n",
       "      <td>0.52</td>\n",
       "      <td>L2</td>\n",
       "      <td>3.981072e-07</td>\n",
       "      <td>1.348887</td>\n",
       "      <td>1.518237</td>\n",
       "      <td>1.503060</td>\n",
       "      <td>1.894714</td>\n",
       "    </tr>\n",
       "    <tr>\n",
       "      <th>132</th>\n",
       "      <td>0.010</td>\n",
       "      <td>0.60</td>\n",
       "      <td>L1</td>\n",
       "      <td>1.000000e-07</td>\n",
       "      <td>1.393688</td>\n",
       "      <td>1.518390</td>\n",
       "      <td>1.597435</td>\n",
       "      <td>1.936572</td>\n",
       "    </tr>\n",
       "    <tr>\n",
       "      <th>177</th>\n",
       "      <td>0.012</td>\n",
       "      <td>0.54</td>\n",
       "      <td>L2</td>\n",
       "      <td>3.981072e-07</td>\n",
       "      <td>1.352925</td>\n",
       "      <td>1.518642</td>\n",
       "      <td>1.515752</td>\n",
       "      <td>1.920026</td>\n",
       "    </tr>\n",
       "  </tbody>\n",
       "</table>\n",
       "</div>"
      ],
      "text/plain": [
       "       eta  nesterov reg_type       reg_val    tr_mee   val_mee      loss  \\\n",
       "128  0.010      0.58       L2  2.511886e-07  1.301139  1.498053  1.379257   \n",
       "222  0.014      0.50       L2  1.000000e-07  1.299053  1.503843  1.378399   \n",
       "145  0.012      0.50       L1  1.584893e-07  1.373286  1.513375  1.570382   \n",
       "107  0.010      0.54       L2  1.000000e-06  1.372048  1.514176  1.539621   \n",
       "25   0.008      0.54       L1  1.584893e-07  1.398222  1.514346  1.618376   \n",
       "251  0.014      0.54       L2  1.000000e-06  1.354133  1.514635  1.512146   \n",
       "215  0.012      0.60       L2  1.000000e-06  1.360103  1.516494  1.525632   \n",
       "165  0.012      0.52       L2  3.981072e-07  1.348887  1.518237  1.503060   \n",
       "132  0.010      0.60       L1  1.000000e-07  1.393688  1.518390  1.597435   \n",
       "177  0.012      0.54       L2  3.981072e-07  1.352925  1.518642  1.515752   \n",
       "\n",
       "     val_loss  \n",
       "128  1.853623  \n",
       "222  1.858226  \n",
       "145  1.899246  \n",
       "107  1.909278  \n",
       "25   1.925330  \n",
       "251  1.887630  \n",
       "215  1.918317  \n",
       "165  1.894714  \n",
       "132  1.936572  \n",
       "177  1.920026  "
      ]
     },
     "execution_count": 5,
     "metadata": {},
     "output_type": "execute_result"
    }
   ],
   "source": [
    "results_df.sort_values(by='val_mee', ascending=True).head(10)"
   ]
  },
  {
   "cell_type": "code",
   "execution_count": null,
   "metadata": {},
   "outputs": [],
   "source": [
    "# just for debugging\n",
    "\n",
    "model = Network(9)\n",
    "model.add_layer(16, ReLU())\n",
    "model.add_layer(16, ReLU())\n",
    "model.add_layer(2, Sigmoid())\n",
    "\n",
    "gs_results = grid_search_cv(\n",
    "    model, \n",
    "    x=X, \n",
    "    y=y, \n",
    "    n_folds=3,\n",
    "    metric=MeanEuclideanError(), \n",
    "    loss=MeanSquaredError(), \n",
    "    eta=[1e-2,],\n",
    "    nesterov=[0.9,],\n",
    "    reg_type=[L2],\n",
    "    reg_val=[1e-7,],\n",
    "    epochs=300,\n",
    "    scaler=scaler,\n",
    "    workers=6\n",
    ")"
   ]
  },
  {
   "cell_type": "code",
   "execution_count": null,
   "metadata": {},
   "outputs": [],
   "source": [
    "results_df = parse_results(gs_results)\n",
    "results_df.sort_values(by='val_mee', ascending=True)"
   ]
  }
 ],
 "metadata": {
  "kernelspec": {
   "display_name": "Python 3",
   "language": "python",
   "name": "python3"
  },
  "language_info": {
   "codemirror_mode": {
    "name": "ipython",
    "version": 3
   },
   "file_extension": ".py",
   "mimetype": "text/x-python",
   "name": "python",
   "nbconvert_exporter": "python",
   "pygments_lexer": "ipython3",
   "version": "3.10.8"
  },
  "orig_nbformat": 4,
  "vscode": {
   "interpreter": {
    "hash": "b0fa6594d8f4cbf19f97940f81e996739fb7646882a419484c72d19e05852a7e"
   }
  }
 },
 "nbformat": 4,
 "nbformat_minor": 2
}
