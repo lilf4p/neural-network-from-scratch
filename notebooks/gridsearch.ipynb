{
 "cells": [
  {
   "cell_type": "code",
   "execution_count": 1,
   "metadata": {},
   "outputs": [
    {
     "data": {
      "text/plain": [
       "(1194, 2, 1)"
      ]
     },
     "execution_count": 1,
     "metadata": {},
     "output_type": "execute_result"
    }
   ],
   "source": [
    "# add the src folder to the path\n",
    "import sys\n",
    "sys.path.append('../')\n",
    "\n",
    "from src.search import grid_search_cv\n",
    "from src.utils import load_cup\n",
    "from src.validation import kfold_cv\n",
    "\n",
    "from src.network import Network\n",
    "from src.activations import ReLU, Sigmoid\n",
    "from src.losses import MeanSquaredError\n",
    "from src.metrics import MeanEuclideanError\n",
    "\n",
    "X, y, scaler = load_cup(validation=False, scale_outputs=True)\n",
    "y.shape"
   ]
  },
  {
   "cell_type": "code",
   "execution_count": 2,
   "metadata": {},
   "outputs": [
    {
     "name": "stdout",
     "output_type": "stream",
     "text": [
      "fitting fold 0 of 3 .\n"
     ]
    },
    {
     "name": "stderr",
     "output_type": "stream",
     "text": [
      "Training: 100%|██████████| 10/10[, loss=0.0086, val_loss=0.00921, val_acc=0.121]"
     ]
    },
    {
     "name": "stdout",
     "output_type": "stream",
     "text": [
      "\n"
     ]
    },
    {
     "name": "stderr",
     "output_type": "stream",
     "text": [
      "\n"
     ]
    },
    {
     "name": "stdout",
     "output_type": "stream",
     "text": [
      "fitting fold 1 of 3 .\n"
     ]
    },
    {
     "name": "stderr",
     "output_type": "stream",
     "text": [
      "Training: 100%|██████████| 10/10[, loss=0.00642, val_loss=0.0072, val_acc=0.101]"
     ]
    },
    {
     "name": "stdout",
     "output_type": "stream",
     "text": [
      "\n"
     ]
    },
    {
     "name": "stderr",
     "output_type": "stream",
     "text": [
      "\n"
     ]
    },
    {
     "name": "stdout",
     "output_type": "stream",
     "text": [
      "fitting fold 2 of 3 .\n"
     ]
    },
    {
     "name": "stderr",
     "output_type": "stream",
     "text": [
      "Training:  70%|███████   | 7/10[, loss=0.0121, val_loss=0.011, val_acc=0.133] "
     ]
    },
    {
     "ename": "KeyboardInterrupt",
     "evalue": "",
     "output_type": "error",
     "traceback": [
      "\u001b[0;31m---------------------------------------------------------------------------\u001b[0m",
      "\u001b[0;31mKeyboardInterrupt\u001b[0m                         Traceback (most recent call last)",
      "Cell \u001b[0;32mIn[2], line 6\u001b[0m\n\u001b[1;32m      3\u001b[0m model\u001b[39m.\u001b[39madd_layer(\u001b[39m24\u001b[39m, ReLU())\n\u001b[1;32m      4\u001b[0m model\u001b[39m.\u001b[39madd_layer(\u001b[39m2\u001b[39m, Sigmoid())\n\u001b[0;32m----> 6\u001b[0m kfold_cv(\n\u001b[1;32m      7\u001b[0m     model\u001b[39m=\u001b[39;49mmodel,\n\u001b[1;32m      8\u001b[0m     k\u001b[39m=\u001b[39;49m\u001b[39m3\u001b[39;49m,\n\u001b[1;32m      9\u001b[0m     x\u001b[39m=\u001b[39;49mX,\n\u001b[1;32m     10\u001b[0m     y\u001b[39m=\u001b[39;49my,\n\u001b[1;32m     11\u001b[0m     loss\u001b[39m=\u001b[39;49mMeanSquaredError(),\n\u001b[1;32m     12\u001b[0m     metric\u001b[39m=\u001b[39;49mMeanEuclideanError(),\n\u001b[1;32m     13\u001b[0m     epochs\u001b[39m=\u001b[39;49m\u001b[39m10\u001b[39;49m,\n\u001b[1;32m     14\u001b[0m     eta\u001b[39m=\u001b[39;49m\u001b[39m10e-3\u001b[39;49m,\n\u001b[1;32m     15\u001b[0m     nesterov\u001b[39m=\u001b[39;49m\u001b[39m0.8\u001b[39;49m,\n\u001b[1;32m     16\u001b[0m     scaler\u001b[39m=\u001b[39;49mscaler,\n\u001b[1;32m     17\u001b[0m     verbose\u001b[39m=\u001b[39;49m\u001b[39mTrue\u001b[39;49;00m\n\u001b[1;32m     18\u001b[0m )\n",
      "File \u001b[0;32m~/Desktop/unipi/ML/neural-network-from-scratch/notebooks/../src/validation.py:50\u001b[0m, in \u001b[0;36mkfold_cv\u001b[0;34m(model, x, y, k, **kwargs)\u001b[0m\n\u001b[1;32m     48\u001b[0m y_val \u001b[39m=\u001b[39m y_folds[i]\n\u001b[1;32m     49\u001b[0m \u001b[39mprint\u001b[39m(\u001b[39m\"\u001b[39m\u001b[39mfitting fold\u001b[39m\u001b[39m\"\u001b[39m, i, \u001b[39m\"\u001b[39m\u001b[39mof\u001b[39m\u001b[39m\"\u001b[39m, k, \u001b[39m\"\u001b[39m\u001b[39m.\u001b[39m\u001b[39m\"\u001b[39m)\n\u001b[0;32m---> 50\u001b[0m model\u001b[39m.\u001b[39;49mtrain((x_train, y_train), (x_val, y_val),\n\u001b[1;32m     51\u001b[0m             metric\u001b[39m=\u001b[39;49mmetric,\n\u001b[1;32m     52\u001b[0m             loss\u001b[39m=\u001b[39;49mloss,\n\u001b[1;32m     53\u001b[0m             epochs\u001b[39m=\u001b[39;49mepochs,\n\u001b[1;32m     54\u001b[0m             verbose\u001b[39m=\u001b[39;49mverbose,\n\u001b[1;32m     55\u001b[0m             nesterov\u001b[39m=\u001b[39;49mnesterov,\n\u001b[1;32m     56\u001b[0m             callbacks\u001b[39m=\u001b[39;49m[callbacks[\u001b[39m0\u001b[39;49m](\u001b[39mint\u001b[39;49m(epochs\u001b[39m/\u001b[39;49m\u001b[39m10\u001b[39;49m))],\n\u001b[1;32m     57\u001b[0m             eta\u001b[39m=\u001b[39;49meta)\n\u001b[1;32m     59\u001b[0m \u001b[39m# compute accuracy\u001b[39;00m\n\u001b[1;32m     60\u001b[0m y_pred \u001b[39m=\u001b[39m model\u001b[39m.\u001b[39mmultiple_outputs(x_val)\n",
      "File \u001b[0;32m~/Desktop/unipi/ML/neural-network-from-scratch/notebooks/../src/network.py:126\u001b[0m, in \u001b[0;36mNetwork.train\u001b[0;34m(self, train, validation, metric, loss, epochs, eta, batch_size, verbose, callbacks, nesterov)\u001b[0m\n\u001b[1;32m    120\u001b[0m \u001b[39m# make batch_size sized tuples\u001b[39;00m\n\u001b[1;32m    121\u001b[0m \u001b[39m# ((x1, d1), (x2, d2), ... , (x_batch_size, d_batch_size))\u001b[39;00m\n\u001b[1;32m    122\u001b[0m \u001b[39m# batched = chunker(zipped, batch_size)\u001b[39;00m\n\u001b[1;32m    124\u001b[0m \u001b[39mfor\u001b[39;00m x, target \u001b[39min\u001b[39;00m \u001b[39mzip\u001b[39m(train_data, train_labels):\n\u001b[0;32m--> 126\u001b[0m     pred \u001b[39m=\u001b[39m \u001b[39mself\u001b[39;49m\u001b[39m.\u001b[39;49m__forward_prop__(x)\n\u001b[1;32m    127\u001b[0m     deltas \u001b[39m=\u001b[39m loss\u001b[39m.\u001b[39mbackward(pred, target)\n\u001b[1;32m    128\u001b[0m     \u001b[39mself\u001b[39m\u001b[39m.\u001b[39m__backward_prop__(deltas\u001b[39m=\u001b[39mdeltas, eta\u001b[39m=\u001b[39meta, nesterov\u001b[39m=\u001b[39mnesterov)\n",
      "File \u001b[0;32m~/Desktop/unipi/ML/neural-network-from-scratch/notebooks/../src/network.py:56\u001b[0m, in \u001b[0;36mNetwork.__forward_prop__\u001b[0;34m(self, x)\u001b[0m\n\u001b[1;32m     54\u001b[0m out \u001b[39m=\u001b[39m x\n\u001b[1;32m     55\u001b[0m \u001b[39mfor\u001b[39;00m layer \u001b[39min\u001b[39;00m \u001b[39mself\u001b[39m\u001b[39m.\u001b[39mlayers:\n\u001b[0;32m---> 56\u001b[0m     out \u001b[39m=\u001b[39m layer\u001b[39m.\u001b[39;49moutput(out)\n\u001b[1;32m     57\u001b[0m \u001b[39mreturn\u001b[39;00m out\n",
      "File \u001b[0;32m~/Desktop/unipi/ML/neural-network-from-scratch/notebooks/../src/layers.py:38\u001b[0m, in \u001b[0;36mLayer.output\u001b[0;34m(self, x)\u001b[0m\n\u001b[1;32m     36\u001b[0m \u001b[39mself\u001b[39m\u001b[39m.\u001b[39mlast_input \u001b[39m=\u001b[39m np\u001b[39m.\u001b[39mcopy(x)\n\u001b[1;32m     37\u001b[0m \u001b[39mself\u001b[39m\u001b[39m.\u001b[39mlast_net \u001b[39m=\u001b[39m \u001b[39mself\u001b[39m\u001b[39m.\u001b[39mnet(x)\n\u001b[0;32m---> 38\u001b[0m \u001b[39mself\u001b[39m\u001b[39m.\u001b[39mlast_output \u001b[39m=\u001b[39m \u001b[39mself\u001b[39;49m\u001b[39m.\u001b[39;49mactivation\u001b[39m.\u001b[39;49mactivation(\u001b[39mself\u001b[39;49m\u001b[39m.\u001b[39;49mlast_net)\n\u001b[1;32m     40\u001b[0m \u001b[39mreturn\u001b[39;00m \u001b[39mself\u001b[39m\u001b[39m.\u001b[39mlast_output\n",
      "File \u001b[0;32m~/Desktop/unipi/ML/neural-network-from-scratch/notebooks/../src/activations.py:61\u001b[0m, in \u001b[0;36mReLU.activation\u001b[0;34m(self, x)\u001b[0m\n\u001b[1;32m     60\u001b[0m \u001b[39mclass\u001b[39;00m \u001b[39mReLU\u001b[39;00m(Activation):\n\u001b[0;32m---> 61\u001b[0m     \u001b[39mdef\u001b[39;00m \u001b[39mactivation\u001b[39m(\u001b[39mself\u001b[39m, x):\n\u001b[1;32m     62\u001b[0m         \u001b[39mreturn\u001b[39;00m np\u001b[39m.\u001b[39mmaximum(\u001b[39m0\u001b[39m, x)\n\u001b[1;32m     64\u001b[0m     \u001b[39mdef\u001b[39;00m \u001b[39mderivative\u001b[39m(\u001b[39mself\u001b[39m, x):\n",
      "\u001b[0;31mKeyboardInterrupt\u001b[0m: "
     ]
    }
   ],
   "source": [
    "model = Network(9)\n",
    "model.add_layer(16, ReLU())\n",
    "model.add_layer(24, ReLU())\n",
    "model.add_layer(2, Sigmoid())\n",
    "\n",
    "kfold_cv(\n",
    "    model=model,\n",
    "    k=3,\n",
    "    x=X,\n",
    "    y=y,\n",
    "    loss=MeanSquaredError(),\n",
    "    metric=MeanEuclideanError(),\n",
    "    epochs=10,\n",
    "    eta=10e-3,\n",
    "    nesterov=0.8,\n",
    "    scaler=scaler,\n",
    "    verbose=True\n",
    ")"
   ]
  }
 ],
 "metadata": {
  "kernelspec": {
   "display_name": "venv",
   "language": "python",
   "name": "python3"
  },
  "language_info": {
   "codemirror_mode": {
    "name": "ipython",
    "version": 3
   },
   "file_extension": ".py",
   "mimetype": "text/x-python",
   "name": "python",
   "nbconvert_exporter": "python",
   "pygments_lexer": "ipython3",
   "version": "3.11.1"
  },
  "orig_nbformat": 4,
  "vscode": {
   "interpreter": {
    "hash": "a29ded6e616d7585d61f3771ec5a363b94eb99ca2ded5b8798d9842f646a5745"
   }
  }
 },
 "nbformat": 4,
 "nbformat_minor": 2
}
