{
 "cells": [
  {
   "cell_type": "code",
   "execution_count": 1,
   "metadata": {},
   "outputs": [
    {
     "data": {
      "text/plain": [
       "(1194, 2, 1)"
      ]
     },
     "execution_count": 1,
     "metadata": {},
     "output_type": "execute_result"
    }
   ],
   "source": [
    "# add the src folder to the path\n",
    "import sys\n",
    "sys.path.append('../')\n",
    "\n",
    "from src.search import grid_search_cv\n",
    "from src.utils import load_cup, parse_results\n",
    "from src.validation import kfold_cv\n",
    "\n",
    "from src.network import Network\n",
    "from src.activations import ReLU, Sigmoid\n",
    "from src.losses import MeanSquaredError\n",
    "from src.metrics import MeanEuclideanError\n",
    "from src.regularizers import L1, L2\n",
    "from src.callbacks import EarlyStopping\n",
    "\n",
    "X, y, scaler = load_cup(validation=False, scale_outputs=True)\n",
    "y.shape"
   ]
  },
  {
   "cell_type": "code",
   "execution_count": 2,
   "metadata": {},
   "outputs": [
    {
     "name": "stdout",
     "output_type": "stream",
     "text": [
      "Gridsearch: exploring 120 combinations.\n"
     ]
    },
    {
     "name": "stderr",
     "output_type": "stream",
     "text": [
      "  0%|          | 0/120 [00:00<?, ?it/s]"
     ]
    }
   ],
   "source": [
    "model = Network(9)\n",
    "model.add_layer(32, ReLU())\n",
    "model.add_layer(16, ReLU())\n",
    "model.add_layer(2, Sigmoid(), initializer='xavier')\n",
    "\n",
    "gs_results = grid_search_cv(\n",
    "    model, \n",
    "    x=X, \n",
    "    y=y, \n",
    "    n_folds=3,\n",
    "    metric=MeanEuclideanError(), \n",
    "    loss=MeanSquaredError(), \n",
    "    eta=[1e-2, 3e-2, 5e-2, 7e-2, 9e-2],\n",
    "    nesterov=[0.55, 0.57, 0.59, 0.61, 0.63, 0.65],\n",
    "    reg_type=[L2],\n",
    "    reg_val=[1e-7, 1e-8, 1e-6, 1e-5],\n",
    "    epochs=1000,\n",
    "    scaler=scaler,\n",
    "    workers=6,\n",
    "    verbose=False\n",
    ")"
   ]
  },
  {
   "cell_type": "code",
   "execution_count": null,
   "metadata": {},
   "outputs": [],
   "source": [
    "results_df = parse_results(gs_results)\n",
    "results_df.to_csv('results_3216_refine.csv')\n",
    "results_df.sort_values(by='val_loss', ascending=True)"
   ]
  },
  {
   "cell_type": "code",
   "execution_count": null,
   "metadata": {},
   "outputs": [],
   "source": [
    "results_df.sort_values(by='accuracy', ascending=True).head(10)"
   ]
  },
  {
   "cell_type": "code",
   "execution_count": null,
   "metadata": {},
   "outputs": [],
   "source": [
    "# just for debugging\n",
    "\n",
    "model = Network(9)\n",
    "model.add_layer(2, ReLU())\n",
    "model.add_layer(2, ReLU())\n",
    "model.add_layer(2, Sigmoid())\n",
    "\n",
    "gs_results = grid_search_cv(\n",
    "    model, \n",
    "    x=X, \n",
    "    y=y, \n",
    "    n_folds=3,\n",
    "    metric=MeanEuclideanError(), \n",
    "    loss=MeanSquaredError(), \n",
    "    eta=[1e-2,],\n",
    "    nesterov=[0.8,],\n",
    "    reg_type=[L2, L1],\n",
    "    reg_val=[1e-7,],\n",
    "    epochs=5,\n",
    "    scaler=scaler,\n",
    "    workers=4\n",
    ")"
   ]
  },
  {
   "cell_type": "code",
   "execution_count": null,
   "metadata": {},
   "outputs": [],
   "source": [
    "results_df = parse_results(gs_results)\n",
    "results_df.to_csv('results_demo.csv')\n",
    "results_df.sort_values(by='val_loss', ascending=True)"
   ]
  }
 ],
 "metadata": {
  "kernelspec": {
   "display_name": "Python 3",
   "language": "python",
   "name": "python3"
  },
  "language_info": {
   "codemirror_mode": {
    "name": "ipython",
    "version": 3
   },
   "file_extension": ".py",
   "mimetype": "text/x-python",
   "name": "python",
   "nbconvert_exporter": "python",
   "pygments_lexer": "ipython3",
   "version": "3.10.8"
  },
  "orig_nbformat": 4,
  "vscode": {
   "interpreter": {
    "hash": "b0fa6594d8f4cbf19f97940f81e996739fb7646882a419484c72d19e05852a7e"
   }
  }
 },
 "nbformat": 4,
 "nbformat_minor": 2
}
