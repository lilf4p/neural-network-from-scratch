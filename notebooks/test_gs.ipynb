{
 "cells": [
  {
   "cell_type": "code",
   "execution_count": 1,
   "metadata": {},
   "outputs": [],
   "source": [
    "import numpy as np\n",
    "import pandas as pd\n",
    "\n",
    "# add the src folder to the path\n",
    "import sys\n",
    "sys.path.append('../')\n",
    "\n",
    "from src.search import grid_search, grid_search_cv\n",
    "from src.utils import load_moons, load_cup, load_monk1\n",
    "from src.network import Network\n",
    "from src.activations import ReLU, Tanh, Sigmoid\n",
    "from src.losses import MeanSquaredError\n",
    "from src.metrics import BinaryAccuracy,  MeanEuclideanError\n",
    "\n",
    "from sklearn.metrics import accuracy_score\n",
    "\n",
    "model = Network(9)\n",
    "model.add_layer(2, ReLU())\n",
    "model.add_layer(2, Sigmoid())\n",
    "\n"
   ]
  },
  {
   "cell_type": "code",
   "execution_count": 3,
   "metadata": {},
   "outputs": [
    {
     "data": {
      "text/plain": [
       "array([[[0.88921196],\n",
       "        [0.3676885 ]],\n",
       "\n",
       "       [[0.74337106],\n",
       "        [0.29578539]],\n",
       "\n",
       "       [[0.36630619],\n",
       "        [0.20784845]],\n",
       "\n",
       "       ...,\n",
       "\n",
       "       [[0.39385832],\n",
       "        [0.18203218]],\n",
       "\n",
       "       [[0.10539795],\n",
       "        [0.58269516]],\n",
       "\n",
       "       [[0.72450877],\n",
       "        [0.29270614]]])"
      ]
     },
     "execution_count": 3,
     "metadata": {},
     "output_type": "execute_result"
    }
   ],
   "source": [
    "X, y, scaler = load_cup(validation=False, scale_outputs=True)\n",
    "y"
   ]
  },
  {
   "cell_type": "code",
   "execution_count": 4,
   "metadata": {},
   "outputs": [
    {
     "data": {
      "text/plain": [
       "(1194, 2)"
      ]
     },
     "execution_count": 4,
     "metadata": {},
     "output_type": "execute_result"
    }
   ],
   "source": [
    "outs= model.multiple_outputs(X)\n",
    "outs.shape = outs.shape[0], outs.shape[1], \n",
    "outs.shape"
   ]
  },
  {
   "cell_type": "code",
   "execution_count": 14,
   "metadata": {},
   "outputs": [
    {
     "data": {
      "text/plain": [
       "array([[ 13.26127528, -24.55803587],\n",
       "       [ 13.26127528, -24.55803587],\n",
       "       [ 13.26129248, -24.55998938],\n",
       "       ...,\n",
       "       [ 13.26137195, -24.56901837],\n",
       "       [ 13.23917269, -24.54734039],\n",
       "       [ 13.26127528, -24.55803587]])"
      ]
     },
     "execution_count": 14,
     "metadata": {},
     "output_type": "execute_result"
    }
   ],
   "source": [
    "scaler.inverse_transform(outs)"
   ]
  },
  {
   "cell_type": "code",
   "execution_count": 21,
   "metadata": {},
   "outputs": [
    {
     "data": {
      "text/plain": [
       "array([[ 13.30845806, -24.58734245]])"
      ]
     },
     "execution_count": 21,
     "metadata": {},
     "output_type": "execute_result"
    }
   ],
   "source": []
  },
  {
   "cell_type": "code",
   "execution_count": 5,
   "metadata": {},
   "outputs": [
    {
     "name": "stdout",
     "output_type": "stream",
     "text": [
      "eta= 0.01 nesterov= 0.8 reg  None lambda = 0\n"
     ]
    },
    {
     "name": "stderr",
     "output_type": "stream",
     "text": [
      "Training: 100%|██████████| 1000/1000[, loss=0.00658, val_loss=0.00731, val_acc=0.103]\n"
     ]
    },
    {
     "name": "stdout",
     "output_type": "stream",
     "text": [
      "Early stopping\n"
     ]
    },
    {
     "name": "stderr",
     "output_type": "stream",
     "text": [
      "Training:  10%|█         | 101/1000[, loss=0.0067, val_loss=0.00696, val_acc=0.101]\n",
      "Training:   0%|          | 0/1000[]\n"
     ]
    },
    {
     "data": {
      "text/plain": [
       "[{'parameters': (0.01, 0.8, None, 0),\n",
       "  'metrics': {'accuracies': 2.036946035083529,\n",
       "   'losses': 0.0068013137277685674,\n",
       "   'val_losses': 2.7406921202588492}}]"
      ]
     },
     "execution_count": 5,
     "metadata": {},
     "output_type": "execute_result"
    }
   ],
   "source": [
    "grid_search_cv(model, X, y, metric=MeanEuclideanError(), loss=MeanSquaredError(), eta=(1e-2,), nesterov=(0.8,), reg_type=(None,), reg_val=(0,), epochs=1000, scaler=scaler)"
   ]
  }
 ],
 "metadata": {
  "kernelspec": {
   "display_name": "venv",
   "language": "python",
   "name": "python3"
  },
  "language_info": {
   "codemirror_mode": {
    "name": "ipython",
    "version": 3
   },
   "file_extension": ".py",
   "mimetype": "text/x-python",
   "name": "python",
   "nbconvert_exporter": "python",
   "pygments_lexer": "ipython3",
   "version": "3.11.1"
  },
  "orig_nbformat": 4,
  "vscode": {
   "interpreter": {
    "hash": "a29ded6e616d7585d61f3771ec5a363b94eb99ca2ded5b8798d9842f646a5745"
   }
  }
 },
 "nbformat": 4,
 "nbformat_minor": 2
}
